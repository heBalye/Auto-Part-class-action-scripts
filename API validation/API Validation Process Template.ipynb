{
 "cells": [
  {
   "cell_type": "code",
   "execution_count": null,
   "metadata": {
    "ExecuteTime": {
     "end_time": "2020-01-22T20:41:49.613225Z",
     "start_time": "2020-01-22T20:41:48.776402Z"
    }
   },
   "outputs": [],
   "source": [
    "from APIValidation.CleanVIN import ValidationProcess, Col_to_str\n",
    "import pandas as pd"
   ]
  },
  {
   "cell_type": "code",
   "execution_count": null,
   "metadata": {
    "ExecuteTime": {
     "end_time": "2020-01-22T20:42:33.154762Z",
     "start_time": "2020-01-22T20:42:32.797717Z"
    },
    "scrolled": true
   },
   "outputs": [],
   "source": [
    "df = pd.read_excel(r'C:\\Users\\FFR0103\\Desktop\\My files\\WORK\\Auto part\\Praxair\\Source Data\\Praxair Vins.xlsx')\n",
    "df"
   ]
  },
  {
   "cell_type": "code",
   "execution_count": null,
   "metadata": {
    "ExecuteTime": {
     "end_time": "2020-01-22T20:42:39.030818Z",
     "start_time": "2020-01-22T20:42:39.011876Z"
    }
   },
   "outputs": [],
   "source": [
    "df[df.VIN.str.contains(\";\")]"
   ]
  },
  {
   "cell_type": "code",
   "execution_count": null,
   "metadata": {
    "ExecuteTime": {
     "end_time": "2020-01-22T20:42:41.016511Z",
     "start_time": "2020-01-22T20:42:41.003545Z"
    }
   },
   "outputs": [],
   "source": [
    "df[df.VIN.str.contains(\",\")]"
   ]
  },
  {
   "cell_type": "code",
   "execution_count": null,
   "metadata": {
    "ExecuteTime": {
     "end_time": "2020-01-22T20:43:17.641629Z",
     "start_time": "2020-01-22T20:43:17.633619Z"
    }
   },
   "outputs": [],
   "source": [
    "data = Col_to_str(df,'VIN',';')\n",
    "data.count(';')"
   ]
  },
  {
   "cell_type": "code",
   "execution_count": null,
   "metadata": {
    "ExecuteTime": {
     "end_time": "2020-01-22T20:46:24.216930Z",
     "start_time": "2020-01-22T20:43:48.819449Z"
    },
    "scrolled": true
   },
   "outputs": [],
   "source": [
    "datalen = Col_to_str(df,'VIN',';').count(';')\n",
    "templen = 1000\n",
    "temp = pd.DataFrame()\n",
    "for i in range(datalen // templen + 1):\n",
    "    print(f'|||||||||||||||||||||||||||||||||||||||||||||||||||||||||||||current range:{i*templen} ~ {(i+1)*templen}\\n\\n')\n",
    "    if (i + 1) * templen < datalen:\n",
    "        print(i*templen,(i+1)*templen)\n",
    "        process_temp = ValidationProcess(Col_to_str(df[i*templen:(i+1)*templen],'VIN',';'),4)\n",
    "        result_temp = process_temp.getAll()\n",
    "        temp = pd.concat([temp,result_temp])\n",
    "    else:\n",
    "        print(i*templen ,datalen,'\\n')\n",
    "        process_temp = ValidationProcess(Col_to_str(df[i*templen:],'VIN',';'),4)\n",
    "        result_temp = process_temp.getAll()\n",
    "        temp = pd.concat([temp,result_temp])\n",
    "    \n",
    "\n",
    "temp"
   ]
  },
  {
   "cell_type": "code",
   "execution_count": null,
   "metadata": {
    "ExecuteTime": {
     "end_time": "2020-01-22T20:50:23.955521Z",
     "start_time": "2020-01-22T20:50:22.482299Z"
    }
   },
   "outputs": [],
   "source": [
    "temp.to_excel(rf'C:\\Users\\FFR0103\\Desktop\\My files\\WORK\\Auto part\\Praxair\\Output\\result.xlsx', index = False)"
   ]
  }
 ],
 "metadata": {
  "kernelspec": {
   "display_name": "Python 3",
   "language": "python",
   "name": "python3"
  },
  "language_info": {
   "codemirror_mode": {
    "name": "ipython",
    "version": 3
   },
   "file_extension": ".py",
   "mimetype": "text/x-python",
   "name": "python",
   "nbconvert_exporter": "python",
   "pygments_lexer": "ipython3",
   "version": "3.7.3"
  }
 },
 "nbformat": 4,
 "nbformat_minor": 2
}
