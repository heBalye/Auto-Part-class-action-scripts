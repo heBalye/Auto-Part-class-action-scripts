{
 "cells": [
  {
   "cell_type": "code",
   "execution_count": null,
   "metadata": {
    "ExecuteTime": {
     "end_time": "2020-02-03T22:25:32.175274Z",
     "start_time": "2020-02-03T22:25:31.350439Z"
    }
   },
   "outputs": [],
   "source": [
    "from APIValidation.CleanVIN import ValidationProcess, Col_to_str\n",
    "import pandas as pd"
   ]
  },
  {
   "cell_type": "code",
   "execution_count": null,
   "metadata": {
    "ExecuteTime": {
     "end_time": "2020-02-03T22:25:27.287811Z",
     "start_time": "2020-02-03T22:25:27.282830Z"
    }
   },
   "outputs": [],
   "source": [
    "source_dir = r'C:\\Users\\FFR0103\\Desktop\\My files\\WORK\\Auto part\\API validation\\Consumers Energy\\Source Data\\\\'\n",
    "output_dir = r'C:\\Users\\FFR0103\\Desktop\\My files\\WORK\\Auto part\\API validation\\Consumers Energy\\Output\\\\'\n",
    "fileName = r'Consumers Energy VINs for NHTSA.xlsx'"
   ]
  },
  {
   "cell_type": "code",
   "execution_count": null,
   "metadata": {
    "ExecuteTime": {
     "end_time": "2020-02-03T22:25:33.858742Z",
     "start_time": "2020-02-03T22:25:33.548604Z"
    },
    "scrolled": true
   },
   "outputs": [],
   "source": [
    "df = pd.read_excel(source_dir + fileName, dtype = str)\n",
    "df"
   ]
  },
  {
   "cell_type": "code",
   "execution_count": null,
   "metadata": {
    "ExecuteTime": {
     "end_time": "2020-01-22T20:42:39.030818Z",
     "start_time": "2020-01-22T20:42:39.011876Z"
    }
   },
   "outputs": [],
   "source": [
    "df[df.VIN.str.contains(\";\")]"
   ]
  },
  {
   "cell_type": "code",
   "execution_count": null,
   "metadata": {
    "ExecuteTime": {
     "end_time": "2020-01-22T20:42:41.016511Z",
     "start_time": "2020-01-22T20:42:41.003545Z"
    }
   },
   "outputs": [],
   "source": [
    "df[df.VIN.str.contains(\",\")]"
   ]
  },
  {
   "cell_type": "code",
   "execution_count": null,
   "metadata": {
    "ExecuteTime": {
     "end_time": "2020-01-22T20:43:17.641629Z",
     "start_time": "2020-01-22T20:43:17.633619Z"
    }
   },
   "outputs": [],
   "source": [
    "data = Col_to_str(df,'VIN',';')\n",
    "data.count(';')"
   ]
  },
  {
   "cell_type": "code",
   "execution_count": null,
   "metadata": {
    "ExecuteTime": {
     "end_time": "2020-01-22T20:46:24.216930Z",
     "start_time": "2020-01-22T20:43:48.819449Z"
    },
    "scrolled": true
   },
   "outputs": [],
   "source": [
    "datalen = Col_to_str(df,'VIN',';').count(';')\n",
    "templen = 1000\n",
    "temp = pd.DataFrame()\n",
    "for i in range(datalen // templen + 1):\n",
    "    print(f'|||||||||||||||||||||||||||||||||||||||||||||||||||||||||||||current range:{i*templen} ~ {(i+1)*templen}\\n\\n')\n",
    "    if (i + 1) * templen < datalen:\n",
    "        print(i*templen,(i+1)*templen)\n",
    "        process_temp = ValidationProcess(Col_to_str(df[i*templen:(i+1)*templen],'VIN',';'),4)\n",
    "        result_temp = process_temp.getAll()\n",
    "        temp = pd.concat([temp,result_temp])\n",
    "    else:\n",
    "        print(i*templen ,datalen,'\\n')\n",
    "        process_temp = ValidationProcess(Col_to_str(df[i*templen:],'VIN',';'),4)\n",
    "        result_temp = process_temp.getAll()\n",
    "        temp = pd.concat([temp,result_temp])\n",
    "    \n",
    "\n",
    "temp"
   ]
  },
  {
   "cell_type": "code",
   "execution_count": null,
   "metadata": {
    "ExecuteTime": {
     "end_time": "2020-01-22T20:50:23.955521Z",
     "start_time": "2020-01-22T20:50:22.482299Z"
    }
   },
   "outputs": [],
   "source": [
    "temp.to_excel(output_dir +rf'result.xlsx', index = False)"
   ]
  },
  {
   "cell_type": "markdown",
   "metadata": {},
   "source": [
    "## QC"
   ]
  },
  {
   "cell_type": "code",
   "execution_count": null,
   "metadata": {},
   "outputs": [],
   "source": [
    "for a, b in zip(df.VIN, temp.OriginalVIN):\n",
    "    if a !=b:\n",
    "        print(a,b)"
   ]
  },
  {
   "cell_type": "code",
   "execution_count": null,
   "metadata": {},
   "outputs": [],
   "source": [
    "for a, b in zip(df.VIN, temp.VIN):\n",
    "    if a !=b:\n",
    "        print(a,b)"
   ]
  }
 ],
 "metadata": {
  "kernelspec": {
   "display_name": "Python 3",
   "language": "python",
   "name": "python3"
  },
  "language_info": {
   "codemirror_mode": {
    "name": "ipython",
    "version": 3
   },
   "file_extension": ".py",
   "mimetype": "text/x-python",
   "name": "python",
   "nbconvert_exporter": "python",
   "pygments_lexer": "ipython3",
   "version": "3.7.3"
  }
 },
 "nbformat": 4,
 "nbformat_minor": 2
}
