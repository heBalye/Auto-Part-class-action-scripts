{
 "cells": [
  {
   "cell_type": "code",
   "execution_count": null,
   "metadata": {
    "ExecuteTime": {
     "end_time": "2020-01-20T21:17:37.091452Z",
     "start_time": "2020-01-20T21:17:36.068199Z"
    }
   },
   "outputs": [],
   "source": [
    "import random\n",
    "import pandas as pd\n",
    "from CleanVIN import ValidationProcess, Col_to_str"
   ]
  },
  {
   "cell_type": "code",
   "execution_count": null,
   "metadata": {
    "ExecuteTime": {
     "end_time": "2020-01-20T20:07:34.355502Z",
     "start_time": "2020-01-20T20:07:34.349054Z"
    }
   },
   "outputs": [],
   "source": [
    "random.seed(143)\n",
    "random.randrange(0,10,4)"
   ]
  },
  {
   "cell_type": "code",
   "execution_count": null,
   "metadata": {
    "ExecuteTime": {
     "end_time": "2020-01-20T21:17:52.311176Z",
     "start_time": "2020-01-20T21:17:52.236782Z"
    },
    "scrolled": true
   },
   "outputs": [],
   "source": [
    "df_test = pd.read_excel(r'C:\\Users\\FFR0103\\Desktop\\My files\\Python Project\\Auto Part\\API validation\\test\\Testcase.xlsx')\n",
    "test = list(df_test.VIN)\n",
    "test"
   ]
  },
  {
   "cell_type": "code",
   "execution_count": null,
   "metadata": {
    "ExecuteTime": {
     "end_time": "2020-01-20T20:11:03.136947Z",
     "start_time": "2020-01-20T20:11:03.133476Z"
    }
   },
   "outputs": [],
   "source": [
    "zz = ';'.join(test)"
   ]
  },
  {
   "cell_type": "code",
   "execution_count": null,
   "metadata": {
    "ExecuteTime": {
     "end_time": "2020-01-20T20:11:20.947018Z",
     "start_time": "2020-01-20T20:11:20.940068Z"
    }
   },
   "outputs": [],
   "source": [
    "random.sample(zz.split(';'),4)"
   ]
  },
  {
   "cell_type": "code",
   "execution_count": null,
   "metadata": {
    "ExecuteTime": {
     "end_time": "2020-01-20T21:17:54.236090Z",
     "start_time": "2020-01-20T21:17:54.228648Z"
    },
    "scrolled": false
   },
   "outputs": [],
   "source": [
    "data = Col_to_str(df_test,'VIN',';')\n",
    "data"
   ]
  },
  {
   "cell_type": "code",
   "execution_count": null,
   "metadata": {
    "ExecuteTime": {
     "end_time": "2020-01-20T21:11:02.597522Z",
     "start_time": "2020-01-20T21:11:02.590081Z"
    },
    "scrolled": true
   },
   "outputs": [],
   "source": [
    "ValidationProcess(data,10).split_to_Chunk()"
   ]
  },
  {
   "cell_type": "code",
   "execution_count": null,
   "metadata": {
    "ExecuteTime": {
     "end_time": "2020-01-20T21:11:08.269640Z",
     "start_time": "2020-01-20T21:11:08.261719Z"
    }
   },
   "outputs": [],
   "source": [
    "ValidationProcess(data,10).Chunklist()"
   ]
  },
  {
   "cell_type": "code",
   "execution_count": null,
   "metadata": {
    "ExecuteTime": {
     "end_time": "2020-01-20T21:14:15.011021Z",
     "start_time": "2020-01-20T21:14:12.813084Z"
    }
   },
   "outputs": [],
   "source": [
    "ValidationProcess(data,10).getSample(30)"
   ]
  },
  {
   "cell_type": "code",
   "execution_count": null,
   "metadata": {
    "ExecuteTime": {
     "end_time": "2020-01-20T21:17:57.787565Z",
     "start_time": "2020-01-20T21:17:56.811538Z"
    }
   },
   "outputs": [],
   "source": [
    "ValidationProcess(data,10).getThread_VT(3)"
   ]
  },
  {
   "cell_type": "code",
   "execution_count": null,
   "metadata": {
    "ExecuteTime": {
     "end_time": "2020-01-20T21:18:04.906457Z",
     "start_time": "2020-01-20T21:18:02.281392Z"
    }
   },
   "outputs": [],
   "source": [
    "ValidationProcess(data,10).getFor_VT(3)"
   ]
  },
  {
   "cell_type": "code",
   "execution_count": 2,
   "metadata": {
    "ExecuteTime": {
     "end_time": "2020-01-21T16:55:10.218343Z",
     "start_time": "2020-01-21T16:55:10.202381Z"
    }
   },
   "outputs": [
    {
     "data": {
      "text/plain": [
       "['C:\\\\Users\\\\FFR0103\\\\Desktop\\\\My files\\\\Python Project\\\\Auto Part\\\\API validation\\\\Ramdom playground',\n",
       " 'C:\\\\Users\\\\FFR0103\\\\Desktop\\\\My files\\\\Python Project\\\\Auto Part\\\\API validation\\\\Ramdom playground\\\\\"C:\\\\Users\\\\FFR0103\\\\Desktop\\\\My files\\\\Python Project\\\\Auto Part\\\\myPackages',\n",
       " 'C:\\\\Users\\\\FFR0103\\\\Desktop\\\\My files\\\\Python Project\\\\Auto Part\\\\API validation\\\\Ramdom playground\\\\\"',\n",
       " 'C:\\\\Users\\\\FFR0103\\\\Desktop\\\\My files\\\\Python Project\\\\Auto Part\\\\API validation\\\\Ramdom playground',\n",
       " 'C:\\\\Users\\\\FFR0103\\\\AppData\\\\Local\\\\Continuum\\\\anaconda3\\\\python37.zip',\n",
       " 'C:\\\\Users\\\\FFR0103\\\\AppData\\\\Local\\\\Continuum\\\\anaconda3\\\\DLLs',\n",
       " 'C:\\\\Users\\\\FFR0103\\\\AppData\\\\Local\\\\Continuum\\\\anaconda3\\\\lib',\n",
       " 'C:\\\\Users\\\\FFR0103\\\\AppData\\\\Local\\\\Continuum\\\\anaconda3',\n",
       " '',\n",
       " 'C:\\\\Users\\\\FFR0103\\\\AppData\\\\Roaming\\\\Python\\\\Python37\\\\site-packages',\n",
       " 'C:\\\\Users\\\\FFR0103\\\\AppData\\\\Local\\\\Continuum\\\\anaconda3\\\\lib\\\\site-packages',\n",
       " 'C:\\\\Users\\\\FFR0103\\\\AppData\\\\Local\\\\Continuum\\\\anaconda3\\\\lib\\\\site-packages\\\\win32',\n",
       " 'C:\\\\Users\\\\FFR0103\\\\AppData\\\\Local\\\\Continuum\\\\anaconda3\\\\lib\\\\site-packages\\\\win32\\\\lib',\n",
       " 'C:\\\\Users\\\\FFR0103\\\\AppData\\\\Local\\\\Continuum\\\\anaconda3\\\\lib\\\\site-packages\\\\Pythonwin',\n",
       " 'C:\\\\Users\\\\FFR0103\\\\AppData\\\\Local\\\\Continuum\\\\anaconda3\\\\lib\\\\site-packages\\\\IPython\\\\extensions',\n",
       " 'C:\\\\Users\\\\FFR0103\\\\.ipython']"
      ]
     },
     "execution_count": 2,
     "metadata": {},
     "output_type": "execute_result"
    }
   ],
   "source": [
    "import sys\n",
    "# sys.path.insert(1, 'C:\\\\Users\\\\FFR0103\\\\Desktop\\\\My files\\\\Python Project\\\\myPackages')\n",
    "sys.path"
   ]
  },
  {
   "cell_type": "code",
   "execution_count": 1,
   "metadata": {
    "ExecuteTime": {
     "end_time": "2020-01-21T16:54:45.419929Z",
     "start_time": "2020-01-21T16:54:45.306161Z"
    }
   },
   "outputs": [
    {
     "ename": "ModuleNotFoundError",
     "evalue": "No module named 'APIValidation'",
     "output_type": "error",
     "traceback": [
      "\u001b[1;31m---------------------------------------------------------------------------\u001b[0m",
      "\u001b[1;31mModuleNotFoundError\u001b[0m                       Traceback (most recent call last)",
      "\u001b[1;32m<ipython-input-1-8cceaa36d914>\u001b[0m in \u001b[0;36m<module>\u001b[1;34m\u001b[0m\n\u001b[1;32m----> 1\u001b[1;33m \u001b[1;32mfrom\u001b[0m \u001b[0mAPIValidation\u001b[0m \u001b[1;32mimport\u001b[0m \u001b[0mCleanVIN\u001b[0m\u001b[1;33m\u001b[0m\u001b[1;33m\u001b[0m\u001b[0m\n\u001b[0m",
      "\u001b[1;31mModuleNotFoundError\u001b[0m: No module named 'APIValidation'"
     ]
    }
   ],
   "source": [
    "from APIValidation import CleanVIN"
   ]
  },
  {
   "cell_type": "code",
   "execution_count": null,
   "metadata": {},
   "outputs": [],
   "source": []
  }
 ],
 "metadata": {
  "kernelspec": {
   "display_name": "Python 3",
   "language": "python",
   "name": "python3"
  },
  "language_info": {
   "codemirror_mode": {
    "name": "ipython",
    "version": 3
   },
   "file_extension": ".py",
   "mimetype": "text/x-python",
   "name": "python",
   "nbconvert_exporter": "python",
   "pygments_lexer": "ipython3",
   "version": "3.7.3"
  }
 },
 "nbformat": 4,
 "nbformat_minor": 2
}
