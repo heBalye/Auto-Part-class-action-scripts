{
 "cells": [
  {
   "cell_type": "code",
   "execution_count": 1,
   "metadata": {
    "ExecuteTime": {
     "end_time": "2020-02-26T17:32:19.780226Z",
     "start_time": "2020-02-26T17:32:17.717720Z"
    }
   },
   "outputs": [],
   "source": [
    "from APIValidation.CleanVIN import ValidationProcess, Col_to_str\n",
    "import pandas as pd"
   ]
  },
  {
   "cell_type": "code",
   "execution_count": null,
   "metadata": {},
   "outputs": [],
   "source": [
    "source_dir = r'C:\\Users\\FFR0103\\Desktop\\My files\\WORK\\Auto part\\API validation\\Consumers Energy\\Source Data\\\\'\n",
    "output_dir = r'C:\\Users\\FFR0103\\Desktop\\My files\\WORK\\Auto part\\API validation\\Consumers Energy\\Output\\\\'\n",
    "fileName = r'Consumers Energy VINs for NHTSA.xlsx'"
   ]
  },
  {
   "cell_type": "code",
   "execution_count": null,
   "metadata": {},
   "outputs": [],
   "source": [
    "for a, b in zip(df.VIN, temp.OriginalVIN):\n",
    "    if a !=b:\n",
    "        print(a,b)"
   ]
  },
  {
   "cell_type": "code",
   "execution_count": null,
   "metadata": {},
   "outputs": [],
   "source": [
    "for a, b in zip(df.VIN, temp.VIN):\n",
    "    if a !=b:\n",
    "        print(a,b)"
   ]
  }
 ],
 "metadata": {
  "kernelspec": {
   "display_name": "Python 3",
   "language": "python",
   "name": "python3"
  },
  "language_info": {
   "codemirror_mode": {
    "name": "ipython",
    "version": 3
   },
   "file_extension": ".py",
   "mimetype": "text/x-python",
   "name": "python",
   "nbconvert_exporter": "python",
   "pygments_lexer": "ipython3",
   "version": "3.7.3"
  }
 },
 "nbformat": 4,
 "nbformat_minor": 2
}
