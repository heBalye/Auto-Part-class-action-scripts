{
 "cells": [
  {
   "cell_type": "code",
   "execution_count": null,
   "metadata": {
    "ExecuteTime": {
     "end_time": "2020-02-26T17:29:12.250039Z",
     "start_time": "2020-02-26T17:29:10.496430Z"
    }
   },
   "outputs": [],
   "source": [
    "from APIValidation.CleanVIN import ValidationProcess, Col_to_str\n",
    "import pandas as pd"
   ]
  },
  {
   "cell_type": "code",
   "execution_count": null,
   "metadata": {
    "ExecuteTime": {
     "end_time": "2020-02-26T17:29:12.738489Z",
     "start_time": "2020-02-26T17:29:12.732505Z"
    }
   },
   "outputs": [],
   "source": [
    "source_dir = r'C:\\Users\\FFR0103\\Desktop\\My files\\WORK\\Auto part\\API validation\\HendelsMccoy\\Source Data\\\\'\n",
    "output_dir = r'C:\\Users\\FFR0103\\Desktop\\My files\\WORK\\Auto part\\API validation\\HendelsMccoy\\Output\\\\'\n",
    "fileName = r'HenkelsMcCoy vins to run.xlsx'"
   ]
  },
  {
   "cell_type": "code",
   "execution_count": null,
   "metadata": {
    "ExecuteTime": {
     "end_time": "2020-02-26T17:29:15.660748Z",
     "start_time": "2020-02-26T17:29:14.669374Z"
    },
    "scrolled": true
   },
   "outputs": [],
   "source": [
    "df = pd.read_excel(source_dir + fileName, dtype = str)\n",
    "df"
   ]
  },
  {
   "cell_type": "code",
   "execution_count": null,
   "metadata": {
    "ExecuteTime": {
     "end_time": "2020-02-26T17:29:20.303498Z",
     "start_time": "2020-02-26T17:29:20.293526Z"
    }
   },
   "outputs": [],
   "source": [
    "data = Col_to_str(df,'VIN',';')\n",
    "data.count(';')"
   ]
  },
  {
   "cell_type": "code",
   "execution_count": null,
   "metadata": {
    "ExecuteTime": {
     "end_time": "2020-02-26T17:29:45.120103Z",
     "start_time": "2020-02-26T17:29:45.094174Z"
    },
    "scrolled": true
   },
   "outputs": [],
   "source": [
    "import re\n",
    "pattern = re.compile('DUP\\d\\.')\n",
    "re.findall(pattern , data)"
   ]
  },
  {
   "cell_type": "code",
   "execution_count": null,
   "metadata": {},
   "outputs": [],
   "source": [
    "import re\n",
    "pattern = re.compile('DUP\\d\\.')\n",
    "data_clean = re.sub(pattern ,'', data)"
   ]
  },
  {
   "cell_type": "code",
   "execution_count": null,
   "metadata": {},
   "outputs": [],
   "source": [
    "import re\n",
    "pattern = re.compile('DUP\\d\\.')\n",
    "re.findall(pattern , data_clean)"
   ]
  },
  {
   "cell_type": "code",
   "execution_count": null,
   "metadata": {},
   "outputs": [],
   "source": [
    "df_clean = pd.DataFrame(data_clean.split(';'))\n",
    "df_clean.columns = ['VIN']\n",
    "df_clean"
   ]
  }
 ],
 "metadata": {
  "kernelspec": {
   "display_name": "Python 3",
   "language": "python",
   "name": "python3"
  },
  "language_info": {
   "codemirror_mode": {
    "name": "ipython",
    "version": 3
   },
   "file_extension": ".py",
   "mimetype": "text/x-python",
   "name": "python",
   "nbconvert_exporter": "python",
   "pygments_lexer": "ipython3",
   "version": "3.7.3"
  }
 },
 "nbformat": 4,
 "nbformat_minor": 2
}
