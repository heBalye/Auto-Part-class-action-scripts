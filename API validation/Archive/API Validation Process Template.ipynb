{
 "cells": [
  {
   "cell_type": "code",
   "execution_count": null,
   "metadata": {
    "ExecuteTime": {
     "end_time": "2020-02-28T17:21:11.915400Z",
     "start_time": "2020-02-28T17:21:11.910413Z"
    }
   },
   "outputs": [],
   "source": [
    "from APIValidation.CleanVIN import ValidationProcess, Col_to_str\n",
    "import pandas as pd\n",
    "from datetime import date"
   ]
  },
  {
   "cell_type": "code",
   "execution_count": null,
   "metadata": {
    "ExecuteTime": {
     "end_time": "2020-02-28T17:30:34.856057Z",
     "start_time": "2020-02-28T17:30:34.850074Z"
    }
   },
   "outputs": [],
   "source": [
    "Date = date.today().strftime(\"%m%d%Y\")\n",
    "print(Date)"
   ]
  },
  {
   "cell_type": "code",
   "execution_count": null,
   "metadata": {
    "ExecuteTime": {
     "end_time": "2020-02-28T17:19:36.550083Z",
     "start_time": "2020-02-28T17:19:36.544100Z"
    }
   },
   "outputs": [],
   "source": [
    "source_dir = r'C:\\Users\\FFR0103\\Desktop\\My files\\WORK\\Auto part\\API validation\\Crawford Company\\Source Data\\\\'\n",
    "output_dir = r'C:\\Users\\FFR0103\\Desktop\\My files\\WORK\\Auto part\\API validation\\Crawford Company\\Output\\\\'\n",
    "fileName = r'CrawfordCompany vins to validate.xlsx'\n",
    "ClientName = r'CrawfordCompany'"
   ]
  },
  {
   "cell_type": "code",
   "execution_count": null,
   "metadata": {
    "ExecuteTime": {
     "end_time": "2020-02-28T17:15:27.471899Z",
     "start_time": "2020-02-28T17:15:27.220576Z"
    },
    "scrolled": true
   },
   "outputs": [],
   "source": [
    "df = pd.read_excel(source_dir + fileName, dtype = str)\n",
    "df"
   ]
  },
  {
   "cell_type": "code",
   "execution_count": null,
   "metadata": {
    "ExecuteTime": {
     "end_time": "2020-02-28T17:15:58.715948Z",
     "start_time": "2020-02-28T17:15:58.700988Z"
    }
   },
   "outputs": [],
   "source": [
    "df[df.VIN.str.contains(\";\")]"
   ]
  },
  {
   "cell_type": "code",
   "execution_count": null,
   "metadata": {
    "ExecuteTime": {
     "end_time": "2020-02-28T17:16:01.051709Z",
     "start_time": "2020-02-28T17:16:01.035753Z"
    }
   },
   "outputs": [],
   "source": [
    "df[df.VIN.str.contains(\",\")]"
   ]
  },
  {
   "cell_type": "code",
   "execution_count": null,
   "metadata": {
    "ExecuteTime": {
     "end_time": "2020-02-28T17:16:19.515075Z",
     "start_time": "2020-02-28T17:16:19.507097Z"
    }
   },
   "outputs": [],
   "source": [
    "data = Col_to_str(df,'VIN',';')\n",
    "data.count(';')"
   ]
  },
  {
   "cell_type": "code",
   "execution_count": null,
   "metadata": {
    "ExecuteTime": {
     "end_time": "2020-02-28T17:16:45.628646Z",
     "start_time": "2020-02-28T17:16:22.212872Z"
    },
    "scrolled": true
   },
   "outputs": [],
   "source": [
    "datalen = Col_to_str(df,'VIN',';').count(';')\n",
    "templen = 1000\n",
    "temp = pd.DataFrame()\n",
    "for i in range(datalen // templen + 1):\n",
    "    print(f'|||||||||||||||||||||||||||||||||||||||||||||||||||||||||||||current range:{i*templen} ~ {(i+1)*templen}\\n\\n')\n",
    "    if (i + 1) * templen < datalen:\n",
    "        print(i*templen,(i+1)*templen)\n",
    "        process_temp = ValidationProcess(Col_to_str(df[i*templen:(i+1)*templen],'VIN',';'),4)\n",
    "        result_temp = process_temp.getAll()\n",
    "        temp = pd.concat([temp,result_temp])\n",
    "    else:\n",
    "        print(i*templen ,datalen,'\\n')\n",
    "        process_temp = ValidationProcess(Col_to_str(df[i*templen:],'VIN',';'),4)\n",
    "        result_temp = process_temp.getAll()\n",
    "        temp = pd.concat([temp,result_temp])\n",
    "    \n",
    "\n",
    "temp"
   ]
  },
  {
   "cell_type": "code",
   "execution_count": null,
   "metadata": {
    "ExecuteTime": {
     "end_time": "2020-02-28T17:32:06.787137Z",
     "start_time": "2020-02-28T17:32:06.496668Z"
    }
   },
   "outputs": [],
   "source": [
    "temp.to_excel(output_dir +r'NHTSA_'+ClientName+'_'+Date+rf'.xlsx', index = False)"
   ]
  },
  {
   "cell_type": "markdown",
   "metadata": {},
   "source": [
    "## QC"
   ]
  },
  {
   "cell_type": "code",
   "execution_count": null,
   "metadata": {
    "ExecuteTime": {
     "end_time": "2020-02-28T17:17:00.715187Z",
     "start_time": "2020-02-28T17:17:00.709240Z"
    }
   },
   "outputs": [],
   "source": [
    "for a, b in zip(df.VIN, temp.OriginalVIN):\n",
    "    if a !=b:\n",
    "        print(a,b)"
   ]
  },
  {
   "cell_type": "code",
   "execution_count": null,
   "metadata": {
    "ExecuteTime": {
     "end_time": "2020-02-28T17:17:02.979081Z",
     "start_time": "2020-02-28T17:17:02.971105Z"
    }
   },
   "outputs": [],
   "source": [
    "for a, b in zip(df.VIN, temp.VIN):\n",
    "    if a !=b:\n",
    "        print(a,b)"
   ]
  }
 ],
 "metadata": {
  "kernelspec": {
   "display_name": "Python 3",
   "language": "python",
   "name": "python3"
  },
  "language_info": {
   "codemirror_mode": {
    "name": "ipython",
    "version": 3
   },
   "file_extension": ".py",
   "mimetype": "text/x-python",
   "name": "python",
   "nbconvert_exporter": "python",
   "pygments_lexer": "ipython3",
   "version": "3.7.3"
  }
 },
 "nbformat": 4,
 "nbformat_minor": 2
}
