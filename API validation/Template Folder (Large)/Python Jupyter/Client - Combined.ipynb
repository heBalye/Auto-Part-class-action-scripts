{
 "cells": [
  {
   "cell_type": "code",
   "execution_count": null,
   "metadata": {
    "ExecuteTime": {
     "end_time": "2020-02-20T20:41:16.353772Z",
     "start_time": "2020-02-20T20:41:16.349782Z"
    }
   },
   "outputs": [],
   "source": [
    "import pandas as pd\n",
    "import glob"
   ]
  },
  {
   "cell_type": "code",
   "execution_count": null,
   "metadata": {
    "ExecuteTime": {
     "end_time": "2020-02-20T20:42:48.145135Z",
     "start_time": "2020-02-20T20:42:48.134164Z"
    }
   },
   "outputs": [],
   "source": [
    "source_dir = r'C:\\Users\\FFR0103\\Desktop\\My files\\WORK\\Auto part\\API validation\\Herc\\Output\\\\'\n",
    "Files = glob.glob(source_dir + 'chunk*')\n",
    "Files"
   ]
  },
  {
   "cell_type": "code",
   "execution_count": null,
   "metadata": {
    "ExecuteTime": {
     "end_time": "2020-02-20T20:45:14.561018Z",
     "start_time": "2020-02-20T20:45:10.117128Z"
    }
   },
   "outputs": [],
   "source": [
    "df0 = pd.read_excel(Files[0], dtype = str)\n",
    "df1 = pd.read_excel(Files[1], dtype = str)\n",
    "df2 = pd.read_excel(Files[2], dtype = str)\n",
    "df3 = pd.read_excel(Files[3], dtype = str)\n",
    "\n"
   ]
  },
  {
   "cell_type": "code",
   "execution_count": null,
   "metadata": {
    "ExecuteTime": {
     "end_time": "2020-02-20T20:46:11.876569Z",
     "start_time": "2020-02-20T20:46:11.827700Z"
    }
   },
   "outputs": [],
   "source": [
    "combined = pd.concat([df0,df1,df2,df3],sort = False, ignore_index=True)\n",
    "combined"
   ]
  },
  {
   "cell_type": "markdown",
   "metadata": {},
   "source": [
    "## QC\n"
   ]
  },
  {
   "cell_type": "code",
   "execution_count": null,
   "metadata": {
    "ExecuteTime": {
     "end_time": "2020-02-20T20:47:56.501920Z",
     "start_time": "2020-02-20T20:47:54.967969Z"
    }
   },
   "outputs": [],
   "source": [
    "DF = pd.read_excel(r'C:\\Users\\FFR0103\\Desktop\\My files\\WORK\\Auto part\\API validation\\Herc\\Source Data\\Herc Rentals Vins to Validate.xlsx', dtype = str)\n",
    "DF"
   ]
  },
  {
   "cell_type": "code",
   "execution_count": null,
   "metadata": {
    "ExecuteTime": {
     "end_time": "2020-02-20T20:50:52.161400Z",
     "start_time": "2020-02-20T20:50:52.151426Z"
    }
   },
   "outputs": [],
   "source": [
    "(DF.VIN != combined.OriginalVIN).any()"
   ]
  },
  {
   "cell_type": "code",
   "execution_count": null,
   "metadata": {
    "ExecuteTime": {
     "end_time": "2020-02-20T20:50:46.882417Z",
     "start_time": "2020-02-20T20:50:46.857456Z"
    }
   },
   "outputs": [],
   "source": [
    "(DF.VIN != combined.VIN).any()"
   ]
  },
  {
   "cell_type": "code",
   "execution_count": null,
   "metadata": {
    "ExecuteTime": {
     "end_time": "2020-02-20T20:51:33.599931Z",
     "start_time": "2020-02-20T20:51:26.571326Z"
    }
   },
   "outputs": [],
   "source": [
    "combined.to_excel(r'C:\\Users\\FFR0103\\Desktop\\My files\\WORK\\Auto part\\API validation\\Herc\\Output\\combined.xlsx',index=False)"
   ]
  }
 ],
 "metadata": {
  "kernelspec": {
   "display_name": "Python 3",
   "language": "python",
   "name": "python3"
  },
  "language_info": {
   "codemirror_mode": {
    "name": "ipython",
    "version": 3
   },
   "file_extension": ".py",
   "mimetype": "text/x-python",
   "name": "python",
   "nbconvert_exporter": "python",
   "pygments_lexer": "ipython3",
   "version": "3.7.3"
  }
 },
 "nbformat": 4,
 "nbformat_minor": 2
}
