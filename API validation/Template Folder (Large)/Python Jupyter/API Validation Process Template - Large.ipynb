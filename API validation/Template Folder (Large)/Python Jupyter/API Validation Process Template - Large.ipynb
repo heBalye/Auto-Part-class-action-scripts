{
 "cells": [
  {
   "cell_type": "code",
   "execution_count": null,
   "metadata": {
    "ExecuteTime": {
     "end_time": "2020-02-20T20:12:13.558224Z",
     "start_time": "2020-02-20T20:12:11.842603Z"
    }
   },
   "outputs": [],
   "source": [
    "from APIValidation.CleanVIN import ValidationProcess, Col_to_str\n",
    "import pandas as pd"
   ]
  },
  {
   "cell_type": "code",
   "execution_count": null,
   "metadata": {
    "ExecuteTime": {
     "end_time": "2020-02-20T20:12:14.415552Z",
     "start_time": "2020-02-20T20:12:14.410565Z"
    }
   },
   "outputs": [],
   "source": [
    "source_dir = r'C:\\Users\\FFR0103\\Desktop\\My files\\WORK\\Auto part\\API validation\\Herc\\Source Data\\\\'\n",
    "output_dir = r'C:\\Users\\FFR0103\\Desktop\\My files\\WORK\\Auto part\\API validation\\Herc\\Output\\\\'\n",
    "fileName = r'Herc Rentals Vins to Validate.xlsx'"
   ]
  },
  {
   "cell_type": "code",
   "execution_count": null,
   "metadata": {
    "ExecuteTime": {
     "end_time": "2020-02-20T20:12:19.787380Z",
     "start_time": "2020-02-20T20:12:18.165964Z"
    },
    "scrolled": true
   },
   "outputs": [],
   "source": [
    "DF = pd.read_excel(source_dir + fileName, dtype = str)\n",
    "DF"
   ]
  },
  {
   "cell_type": "code",
   "execution_count": null,
   "metadata": {
    "ExecuteTime": {
     "end_time": "2020-02-20T20:12:25.993316Z",
     "start_time": "2020-02-20T20:12:25.954433Z"
    }
   },
   "outputs": [],
   "source": [
    "DF[DF.VIN.str.contains(\";\")]"
   ]
  },
  {
   "cell_type": "code",
   "execution_count": null,
   "metadata": {
    "ExecuteTime": {
     "end_time": "2020-02-20T20:12:31.212393Z",
     "start_time": "2020-02-20T20:12:31.170936Z"
    }
   },
   "outputs": [],
   "source": [
    "DF[DF.VIN.str.contains(\",\")]"
   ]
  },
  {
   "cell_type": "code",
   "execution_count": null,
   "metadata": {
    "ExecuteTime": {
     "end_time": "2020-02-20T20:12:36.038687Z",
     "start_time": "2020-02-20T20:12:36.026721Z"
    }
   },
   "outputs": [],
   "source": [
    "data = Col_to_str(DF,'VIN',';')\n",
    "data.count(';')"
   ]
  },
  {
   "cell_type": "code",
   "execution_count": null,
   "metadata": {
    "ExecuteTime": {
     "end_time": "2020-02-20T20:12:46.624456Z",
     "start_time": "2020-02-20T20:12:46.610493Z"
    }
   },
   "outputs": [],
   "source": [
    "process_test = ValidationProcess(data)"
   ]
  },
  {
   "cell_type": "code",
   "execution_count": null,
   "metadata": {
    "ExecuteTime": {
     "end_time": "2020-02-20T20:12:55.693917Z",
     "start_time": "2020-02-20T20:12:48.530932Z"
    }
   },
   "outputs": [],
   "source": [
    "process_test.getSample(100)"
   ]
  },
  {
   "cell_type": "markdown",
   "metadata": {},
   "source": [
    "## 1 st chunk 0~10000 "
   ]
  },
  {
   "cell_type": "code",
   "execution_count": null,
   "metadata": {
    "ExecuteTime": {
     "end_time": "2020-02-20T20:14:06.241389Z",
     "start_time": "2020-02-20T20:14:06.218484Z"
    },
    "scrolled": true
   },
   "outputs": [],
   "source": [
    "df = DF.iloc[:10000,:]\n",
    "df"
   ]
  },
  {
   "cell_type": "code",
   "execution_count": null,
   "metadata": {
    "ExecuteTime": {
     "end_time": "2020-02-20T20:18:49.155779Z",
     "start_time": "2020-02-20T20:15:40.043400Z"
    },
    "scrolled": true
   },
   "outputs": [],
   "source": [
    "datalen = Col_to_str(df,'VIN',';').count(';')\n",
    "templen = 1000\n",
    "temp = pd.DataFrame()\n",
    "for i in range(datalen // templen + 1):\n",
    "    print(f'|||||||||||||||||||||||||||||||||||||||||||||||||||||||||||||current range:{i*templen} ~ {(i+1)*templen}\\n\\n')\n",
    "    if (i + 1) * templen < datalen:\n",
    "        print(i*templen,(i+1)*templen)\n",
    "        process_temp = ValidationProcess(Col_to_str(df[i*templen:(i+1)*templen],'VIN',';'),4)\n",
    "        result_temp = process_temp.getAll()\n",
    "        temp = pd.concat([temp,result_temp])\n",
    "    else:\n",
    "        print(i*templen ,datalen,'\\n')\n",
    "        process_temp = ValidationProcess(Col_to_str(df[i*templen:],'VIN',';'),4)\n",
    "        result_temp = process_temp.getAll()\n",
    "        temp = pd.concat([temp,result_temp])\n",
    "    \n",
    "\n",
    "temp"
   ]
  },
  {
   "cell_type": "code",
   "execution_count": null,
   "metadata": {
    "ExecuteTime": {
     "end_time": "2020-02-20T20:27:07.655620Z",
     "start_time": "2020-02-20T20:27:07.634677Z"
    }
   },
   "outputs": [],
   "source": [
    "for i, a in enumerate(zip(df.VIN, temp.OriginalVIN, temp.VIN)):\n",
    "    if a[0] != a[1]:\n",
    "        print(\"Data is wrong\",i,a)\n",
    "    else:\n",
    "        if a[1] != a[2]:\n",
    "            print(i, a)"
   ]
  },
  {
   "cell_type": "code",
   "execution_count": null,
   "metadata": {
    "ExecuteTime": {
     "end_time": "2020-02-20T20:27:17.788223Z",
     "start_time": "2020-02-20T20:27:15.795212Z"
    }
   },
   "outputs": [],
   "source": [
    "FileName = 'chunk1-10000.xlsx'\n",
    "temp.to_excel(output_dir +FileName, index = False)"
   ]
  },
  {
   "cell_type": "markdown",
   "metadata": {},
   "source": [
    "## 2ed chunk 10001~20000 "
   ]
  },
  {
   "cell_type": "code",
   "execution_count": null,
   "metadata": {
    "ExecuteTime": {
     "end_time": "2020-02-20T20:28:01.422379Z",
     "start_time": "2020-02-20T20:28:01.406423Z"
    },
    "scrolled": true
   },
   "outputs": [],
   "source": [
    "df = DF.iloc[10000:20000,:]\n",
    "df"
   ]
  },
  {
   "cell_type": "code",
   "execution_count": null,
   "metadata": {
    "ExecuteTime": {
     "end_time": "2020-02-20T20:32:22.656828Z",
     "start_time": "2020-02-20T20:28:29.045875Z"
    },
    "scrolled": true
   },
   "outputs": [],
   "source": [
    "datalen = Col_to_str(df,'VIN',';').count(';')\n",
    "templen = 1000\n",
    "temp = pd.DataFrame()\n",
    "for i in range(datalen // templen + 1):\n",
    "    print(f'|||||||||||||||||||||||||||||||||||||||||||||||||||||||||||||current range:{i*templen} ~ {(i+1)*templen}\\n\\n')\n",
    "    if (i + 1) * templen < datalen:\n",
    "        print(i*templen,(i+1)*templen)\n",
    "        process_temp = ValidationProcess(Col_to_str(df[i*templen:(i+1)*templen],'VIN',';'),4)\n",
    "        result_temp = process_temp.getAll()\n",
    "        temp = pd.concat([temp,result_temp])\n",
    "    else:\n",
    "        print(i*templen ,datalen,'\\n')\n",
    "        process_temp = ValidationProcess(Col_to_str(df[i*templen:],'VIN',';'),4)\n",
    "        result_temp = process_temp.getAll()\n",
    "        temp = pd.concat([temp,result_temp])\n",
    "    \n",
    "\n",
    "temp"
   ]
  },
  {
   "cell_type": "code",
   "execution_count": null,
   "metadata": {
    "ExecuteTime": {
     "end_time": "2020-02-20T20:32:40.879581Z",
     "start_time": "2020-02-20T20:32:40.856642Z"
    }
   },
   "outputs": [],
   "source": [
    "for i, a in enumerate(zip(df.VIN, temp.OriginalVIN, temp.VIN)):\n",
    "    if a[0] != a[1]:\n",
    "        print(\"Data is wrong\",i,a)\n",
    "    else:\n",
    "        if a[1] != a[2]:\n",
    "            print(i, a)"
   ]
  },
  {
   "cell_type": "code",
   "execution_count": null,
   "metadata": {
    "ExecuteTime": {
     "end_time": "2020-02-20T20:32:54.775765Z",
     "start_time": "2020-02-20T20:32:52.855987Z"
    }
   },
   "outputs": [],
   "source": [
    "FileName = 'chunk10001-20000.xlsx'\n",
    "temp.to_excel(output_dir +FileName, index = False)"
   ]
  },
  {
   "cell_type": "markdown",
   "metadata": {},
   "source": [
    "## 3 rd chunk 20001~30000 "
   ]
  },
  {
   "cell_type": "code",
   "execution_count": null,
   "metadata": {
    "ExecuteTime": {
     "end_time": "2020-02-20T20:33:50.671864Z",
     "start_time": "2020-02-20T20:33:50.649924Z"
    },
    "scrolled": true
   },
   "outputs": [],
   "source": [
    "df = DF.iloc[20000:30000,:]\n",
    "df"
   ]
  },
  {
   "cell_type": "code",
   "execution_count": null,
   "metadata": {
    "ExecuteTime": {
     "end_time": "2020-02-20T20:37:35.006723Z",
     "start_time": "2020-02-20T20:33:59.937172Z"
    },
    "scrolled": true
   },
   "outputs": [],
   "source": [
    "datalen = Col_to_str(df,'VIN',';').count(';')\n",
    "templen = 1000\n",
    "temp = pd.DataFrame()\n",
    "for i in range(datalen // templen + 1):\n",
    "    print(f'|||||||||||||||||||||||||||||||||||||||||||||||||||||||||||||current range:{i*templen} ~ {(i+1)*templen}\\n\\n')\n",
    "    if (i + 1) * templen < datalen:\n",
    "        print(i*templen,(i+1)*templen)\n",
    "        process_temp = ValidationProcess(Col_to_str(df[i*templen:(i+1)*templen],'VIN',';'),4)\n",
    "        result_temp = process_temp.getAll()\n",
    "        temp = pd.concat([temp,result_temp])\n",
    "    else:\n",
    "        print(i*templen ,datalen,'\\n')\n",
    "        process_temp = ValidationProcess(Col_to_str(df[i*templen:],'VIN',';'),4)\n",
    "        result_temp = process_temp.getAll()\n",
    "        temp = pd.concat([temp,result_temp])\n",
    "    \n",
    "\n",
    "temp"
   ]
  },
  {
   "cell_type": "code",
   "execution_count": null,
   "metadata": {
    "ExecuteTime": {
     "end_time": "2020-02-20T20:37:44.318316Z",
     "start_time": "2020-02-20T20:37:44.299367Z"
    }
   },
   "outputs": [],
   "source": [
    "for i, a in enumerate(zip(df.VIN, temp.OriginalVIN, temp.VIN)):\n",
    "    if a[0] != a[1]:\n",
    "        print(\"Data is wrong\",i,a)\n",
    "    else:\n",
    "        if a[1] != a[2]:\n",
    "            print(i, a)"
   ]
  },
  {
   "cell_type": "code",
   "execution_count": null,
   "metadata": {
    "ExecuteTime": {
     "end_time": "2020-02-20T20:37:53.352947Z",
     "start_time": "2020-02-20T20:37:51.371293Z"
    }
   },
   "outputs": [],
   "source": [
    "FileName = 'chunk20001-30000.xlsx'\n",
    "temp.to_excel(output_dir +FileName, index = False)"
   ]
  },
  {
   "cell_type": "markdown",
   "metadata": {},
   "source": [
    "## 4 rd chunk 30001~end"
   ]
  },
  {
   "cell_type": "code",
   "execution_count": null,
   "metadata": {
    "ExecuteTime": {
     "end_time": "2020-02-20T20:38:46.560278Z",
     "start_time": "2020-02-20T20:38:46.534345Z"
    },
    "scrolled": true
   },
   "outputs": [],
   "source": [
    "df = DF.iloc[30000:,:]\n",
    "df"
   ]
  },
  {
   "cell_type": "code",
   "execution_count": null,
   "metadata": {
    "ExecuteTime": {
     "end_time": "2020-02-20T20:41:52.309508Z",
     "start_time": "2020-02-20T20:38:54.144764Z"
    },
    "scrolled": true
   },
   "outputs": [],
   "source": [
    "datalen = Col_to_str(df,'VIN',';').count(';')\n",
    "templen = 1000\n",
    "temp = pd.DataFrame()\n",
    "for i in range(datalen // templen + 1):\n",
    "    print(f'|||||||||||||||||||||||||||||||||||||||||||||||||||||||||||||current range:{i*templen} ~ {(i+1)*templen}\\n\\n')\n",
    "    if (i + 1) * templen < datalen:\n",
    "        print(i*templen,(i+1)*templen)\n",
    "        process_temp = ValidationProcess(Col_to_str(df[i*templen:(i+1)*templen],'VIN',';'),4)\n",
    "        result_temp = process_temp.getAll()\n",
    "        temp = pd.concat([temp,result_temp])\n",
    "    else:\n",
    "        print(i*templen ,datalen,'\\n')\n",
    "        process_temp = ValidationProcess(Col_to_str(df[i*templen:],'VIN',';'),4)\n",
    "        result_temp = process_temp.getAll()\n",
    "        temp = pd.concat([temp,result_temp])\n",
    "    \n",
    "\n",
    "temp"
   ]
  },
  {
   "cell_type": "code",
   "execution_count": null,
   "metadata": {
    "ExecuteTime": {
     "end_time": "2020-02-20T20:42:38.622752Z",
     "start_time": "2020-02-20T20:42:38.605799Z"
    }
   },
   "outputs": [],
   "source": [
    "for i, a in enumerate(zip(df.VIN, temp.OriginalVIN, temp.VIN)):\n",
    "    if a[0] != a[1]:\n",
    "        print(\"Data is wrong\",i,a)\n",
    "    else:\n",
    "        if a[1] != a[2]:\n",
    "            print(i, a)"
   ]
  },
  {
   "cell_type": "code",
   "execution_count": null,
   "metadata": {
    "ExecuteTime": {
     "end_time": "2020-02-20T20:42:46.202324Z",
     "start_time": "2020-02-20T20:42:44.486543Z"
    }
   },
   "outputs": [],
   "source": [
    "FileName = 'chunk30001-End.xlsx'\n",
    "temp.to_excel(output_dir +FileName, index = False)"
   ]
  }
 ],
 "metadata": {
  "kernelspec": {
   "display_name": "Python 3",
   "language": "python",
   "name": "python3"
  },
  "language_info": {
   "codemirror_mode": {
    "name": "ipython",
    "version": 3
   },
   "file_extension": ".py",
   "mimetype": "text/x-python",
   "name": "python",
   "nbconvert_exporter": "python",
   "pygments_lexer": "ipython3",
   "version": "3.7.3"
  }
 },
 "nbformat": 4,
 "nbformat_minor": 2
}
