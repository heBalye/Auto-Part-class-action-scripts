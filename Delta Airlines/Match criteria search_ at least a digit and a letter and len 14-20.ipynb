{
 "cells": [
  {
   "cell_type": "code",
   "execution_count": null,
   "metadata": {
    "ExecuteTime": {
     "end_time": "2020-03-05T17:22:16.419959Z",
     "start_time": "2020-03-05T17:22:13.974308Z"
    }
   },
   "outputs": [],
   "source": [
    "import pandas as pd\n",
    "import re"
   ]
  },
  {
   "cell_type": "code",
   "execution_count": null,
   "metadata": {
    "ExecuteTime": {
     "end_time": "2020-03-05T17:22:27.513202Z",
     "start_time": "2020-03-05T17:22:17.069073Z"
    }
   },
   "outputs": [],
   "source": [
    "DF = pd.read_excel(r'C:\\Users\\FFR0103\\Desktop\\My files\\WORK\\Auto part\\Delta Air Lines\\Source Data\\DAL Parts Inventory 3-2-2020.xlsx', dtype = str)\n",
    "DF"
   ]
  },
  {
   "cell_type": "code",
   "execution_count": null,
   "metadata": {
    "ExecuteTime": {
     "end_time": "2020-03-04T17:25:44.023142Z",
     "start_time": "2020-03-04T17:25:43.926396Z"
    }
   },
   "outputs": [],
   "source": [
    "DF.info()"
   ]
  },
  {
   "cell_type": "code",
   "execution_count": null,
   "metadata": {
    "ExecuteTime": {
     "end_time": "2020-03-05T17:35:27.060739Z",
     "start_time": "2020-03-05T17:35:26.740565Z"
    }
   },
   "outputs": [],
   "source": [
    "print(f\"{'index':<5}{'cols name':>20}{'length':>10}\",'\\n')\n",
    "for i, col in enumerate(DF.columns):\n",
    "    print(f'{i:<5}{col:>20}{DF[col].str.len().max():>10}')"
   ]
  },
  {
   "cell_type": "code",
   "execution_count": null,
   "metadata": {
    "ExecuteTime": {
     "end_time": "2020-03-03T22:47:04.755395Z",
     "start_time": "2020-03-03T22:47:04.719493Z"
    }
   },
   "outputs": [],
   "source": [
    "DF[DF['Lessor'].str.len()==30]"
   ]
  },
  {
   "cell_type": "code",
   "execution_count": null,
   "metadata": {
    "ExecuteTime": {
     "end_time": "2020-03-03T22:49:26.904003Z",
     "start_time": "2020-03-03T22:49:26.897022Z"
    }
   },
   "outputs": [],
   "source": [
    "for col in DF.columns[[1,2,3,4,5,6,13,14,15]]:\n",
    "    print(col)"
   ]
  },
  {
   "cell_type": "markdown",
   "metadata": {},
   "source": [
    "## Criteria building "
   ]
  },
  {
   "cell_type": "code",
   "execution_count": null,
   "metadata": {
    "ExecuteTime": {
     "end_time": "2020-03-05T17:49:27.162259Z",
     "start_time": "2020-03-05T17:49:27.142313Z"
    }
   },
   "outputs": [],
   "source": [
    "Search_df = DF.loc[:,DF.columns[[1,2,3,4,5,6,13,14,15]]]"
   ]
  },
  {
   "cell_type": "code",
   "execution_count": null,
   "metadata": {
    "ExecuteTime": {
     "end_time": "2020-03-05T17:50:23.524676Z",
     "start_time": "2020-03-05T17:50:23.518715Z"
    }
   },
   "outputs": [],
   "source": [
    " F1 = (Search_df.iloc[0,:].str.len()<20)"
   ]
  },
  {
   "cell_type": "code",
   "execution_count": null,
   "metadata": {
    "ExecuteTime": {
     "end_time": "2020-03-05T17:50:23.704196Z",
     "start_time": "2020-03-05T17:50:23.699210Z"
    }
   },
   "outputs": [],
   "source": [
    "F2 = (Search_df.iloc[0,:].str.len()>14)"
   ]
  },
  {
   "cell_type": "code",
   "execution_count": null,
   "metadata": {
    "ExecuteTime": {
     "end_time": "2020-03-05T17:50:23.903703Z",
     "start_time": "2020-03-05T17:50:23.898715Z"
    }
   },
   "outputs": [],
   "source": [
    "F3 = Search_df.iloc[0,:].str.contains('[0-9]', regex=True, na=False,flags=re.IGNORECASE )"
   ]
  },
  {
   "cell_type": "code",
   "execution_count": null,
   "metadata": {
    "ExecuteTime": {
     "end_time": "2020-03-05T17:50:24.738519Z",
     "start_time": "2020-03-05T17:50:24.732537Z"
    },
    "scrolled": true
   },
   "outputs": [],
   "source": [
    "F4 = Search_df.iloc[0,:].str.contains('[a-zA-Z]', regex=True, na=False,flags=re.IGNORECASE )"
   ]
  },
  {
   "cell_type": "code",
   "execution_count": null,
   "metadata": {
    "ExecuteTime": {
     "end_time": "2020-03-05T17:50:25.419707Z",
     "start_time": "2020-03-05T17:50:25.410729Z"
    }
   },
   "outputs": [],
   "source": [
    "Filter = F1&F2&F3&F4\n",
    "Filter"
   ]
  },
  {
   "cell_type": "code",
   "execution_count": null,
   "metadata": {
    "ExecuteTime": {
     "end_time": "2020-03-05T17:50:47.758331Z",
     "start_time": "2020-03-05T17:50:47.723421Z"
    }
   },
   "outputs": [],
   "source": [
    "temp = pd.DataFrame()\n",
    "temp = temp.append(Search_df.iloc[0,:])\n",
    "temp =temp.append(Search_df.iloc[1,:])\n",
    "temp"
   ]
  },
  {
   "cell_type": "code",
   "execution_count": null,
   "metadata": {
    "ExecuteTime": {
     "end_time": "2020-03-03T23:36:05.342427Z",
     "start_time": "2020-03-03T23:36:05.336443Z"
    }
   },
   "outputs": [],
   "source": [
    "len(Search_df)"
   ]
  },
  {
   "cell_type": "markdown",
   "metadata": {},
   "source": [
    "## Grab the VINs feature-----------------------------------------------------------------------------"
   ]
  },
  {
   "cell_type": "code",
   "execution_count": null,
   "metadata": {
    "ExecuteTime": {
     "end_time": "2020-03-04T16:41:19.978651Z",
     "start_time": "2020-03-04T16:35:59.112003Z"
    }
   },
   "outputs": [],
   "source": [
    "temp = pd.DataFrame()\n",
    "for i in range(len(Search_df)):\n",
    "    print(i)\n",
    "    F1 = (Search_df.iloc[i,:].str.len()<20)\n",
    "    F2 = (Search_df.iloc[i,:].str.len()>14)\n",
    "    F3 = Search_df.iloc[i,:].str.contains('[0-9]', regex=True, na=False,flags=re.IGNORECASE )\n",
    "    F4 = Search_df.iloc[i,:].str.strip().str.contains('[a-zA-Z]', regex=True, na=False,flags=re.IGNORECASE )\n",
    "    F5 = ~Search_df.iloc[i,:].str.contains('[-,/\\s]', regex=True, na=False,flags=re.IGNORECASE )\n",
    "    Filter = F1&F2&F3&F4&F5\n",
    "    if sum(Filter)>1:\n",
    "        print(f'row index {i}, {sum(Filter)}')\n",
    "#     if Filter.any():\n",
    "#         temp = temp.append(Search_df.iloc[i,:])"
   ]
  },
  {
   "cell_type": "code",
   "execution_count": null,
   "metadata": {
    "ExecuteTime": {
     "end_time": "2020-03-04T18:11:18.636182Z",
     "start_time": "2020-03-04T18:04:09.895440Z"
    }
   },
   "outputs": [],
   "source": [
    "Search_df.drop(columns = ['Possible VIN'], inplace=True)\n",
    "temp = pd.DataFrame()\n",
    "for i in range(len(Search_df)):\n",
    "    print(i)\n",
    "    F1 = (Search_df.iloc[i,:].str.len()<=20)\n",
    "    F2 = (Search_df.iloc[i,:].str.len()>=14)\n",
    "    F3 = Search_df.iloc[i,:].str.contains('[0-9]', regex=True, na=False,flags=re.IGNORECASE )\n",
    "    F4 = Search_df.iloc[i,:].str.strip().str.contains('[a-zA-Z]', regex=True, na=False,flags=re.IGNORECASE )\n",
    "    F5 = ~Search_df.iloc[i,:].str.contains('[-,/\\s]', regex=True, na=False,flags=re.IGNORECASE )\n",
    "    Filter = F1&F2&F3&F4&F5\n",
    "    if sum(Filter)>0:\n",
    "        print(f'row index {i}, {sum(Filter)}')\n",
    "        Search_df.loc[i,'Possible VIN'] = ';'.join(Search_df.loc[i,:][Filter])\n",
    "#     if Filter.any():\n",
    "#         temp = temp.append(Search_df.iloc[i,:])"
   ]
  },
  {
   "cell_type": "code",
   "execution_count": null,
   "metadata": {
    "ExecuteTime": {
     "end_time": "2020-03-04T18:15:28.648629Z",
     "start_time": "2020-03-04T18:15:28.639685Z"
    }
   },
   "outputs": [],
   "source": [
    "# len(14-20)\n",
    "Search_df['Possible VIN'].count()"
   ]
  },
  {
   "cell_type": "code",
   "execution_count": null,
   "metadata": {
    "ExecuteTime": {
     "end_time": "2020-03-04T17:25:09.679804Z",
     "start_time": "2020-03-04T17:25:09.670797Z"
    }
   },
   "outputs": [],
   "source": [
    "# len(14-20)\n",
    "Search_df['Possible VIN'].count()"
   ]
  },
  {
   "cell_type": "code",
   "execution_count": null,
   "metadata": {
    "ExecuteTime": {
     "end_time": "2020-03-04T18:16:24.470991Z",
     "start_time": "2020-03-04T18:16:24.459023Z"
    }
   },
   "outputs": [],
   "source": [
    "DF.loc[:,'Possible VIN'] =Search_df['Possible VIN']"
   ]
  },
  {
   "cell_type": "code",
   "execution_count": null,
   "metadata": {
    "ExecuteTime": {
     "end_time": "2020-03-04T18:16:56.443507Z",
     "start_time": "2020-03-04T18:16:34.428401Z"
    }
   },
   "outputs": [],
   "source": [
    "DF.to_excel(r'C:\\Users\\FFR0103\\Desktop\\My files\\WORK\\Auto part\\Delta Air Lines\\Output\\Search_Output_(14-20).xlsx', index = True, index_label='RowID')"
   ]
  }
 ],
 "metadata": {
  "kernelspec": {
   "display_name": "Python 3",
   "language": "python",
   "name": "python3"
  },
  "language_info": {
   "codemirror_mode": {
    "name": "ipython",
    "version": 3
   },
   "file_extension": ".py",
   "mimetype": "text/x-python",
   "name": "python",
   "nbconvert_exporter": "python",
   "pygments_lexer": "ipython3",
   "version": "3.7.3"
  }
 },
 "nbformat": 4,
 "nbformat_minor": 2
}
