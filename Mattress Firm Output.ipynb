{
 "cells": [
  {
   "cell_type": "code",
   "execution_count": 1,
   "metadata": {
    "ExecuteTime": {
     "end_time": "2020-01-03T21:20:03.417855Z",
     "start_time": "2020-01-03T21:20:02.595053Z"
    }
   },
   "outputs": [],
   "source": [
    "import pandas as pd\n",
    "import glob"
   ]
  },
  {
   "cell_type": "code",
   "execution_count": 2,
   "metadata": {
    "ExecuteTime": {
     "end_time": "2020-01-03T21:20:03.427830Z",
     "start_time": "2020-01-03T21:20:03.420856Z"
    }
   },
   "outputs": [],
   "source": [
    "FileName = glob.glob('C:\\\\Users\\\\FFR0103\\\\Desktop\\\\My files\\\\WORK\\\\Auto part\\\\Mattress Firm\\\\Source\\\\*.*')"
   ]
  },
  {
   "cell_type": "code",
   "execution_count": 3,
   "metadata": {
    "ExecuteTime": {
     "end_time": "2020-01-03T21:20:05.809473Z",
     "start_time": "2020-01-03T21:20:05.792519Z"
    }
   },
   "outputs": [
    {
     "data": {
      "text/plain": [
       "['C:\\\\Users\\\\FFR0103\\\\Desktop\\\\My files\\\\WORK\\\\Auto part\\\\Mattress Firm\\\\Source\\\\01-17-2013 - Mattress Firm - Adhoc #50358.xlsx',\n",
       " 'C:\\\\Users\\\\FFR0103\\\\Desktop\\\\My files\\\\WORK\\\\Auto part\\\\Mattress Firm\\\\Source\\\\01-17-2013 - Mattress Firm - Adhoc.xlsx',\n",
       " 'C:\\\\Users\\\\FFR0103\\\\Desktop\\\\My files\\\\WORK\\\\Auto part\\\\Mattress Firm\\\\Source\\\\2.4.29 2.4.10_Debt Schedules_MLI (No APC Data).xlsx',\n",
       " 'C:\\\\Users\\\\FFR0103\\\\Desktop\\\\My files\\\\WORK\\\\Auto part\\\\Mattress Firm\\\\Source\\\\2014-15 Auto Schedule.xlsx',\n",
       " 'C:\\\\Users\\\\FFR0103\\\\Desktop\\\\My files\\\\WORK\\\\Auto part\\\\Mattress Firm\\\\Source\\\\2014Q2 Truck Inventory Update 2014-07-28.xlsx',\n",
       " 'C:\\\\Users\\\\FFR0103\\\\Desktop\\\\My files\\\\WORK\\\\Auto part\\\\Mattress Firm\\\\Source\\\\Auto Schedule as of 10.10.12.xls',\n",
       " 'C:\\\\Users\\\\FFR0103\\\\Desktop\\\\My files\\\\WORK\\\\Auto part\\\\Mattress Firm\\\\Source\\\\Auto Schedule as of 11.5.13. sent for renewal.xls',\n",
       " 'C:\\\\Users\\\\FFR0103\\\\Desktop\\\\My files\\\\WORK\\\\Auto part\\\\Mattress Firm\\\\Source\\\\CHECKLIST FOR VEHICLE TRANSFERS.xlsx',\n",
       " 'C:\\\\Users\\\\FFR0103\\\\Desktop\\\\My files\\\\WORK\\\\Auto part\\\\Mattress Firm\\\\Source\\\\CHECKLIST FOR VEHICLE TRANSFERS_update 11.05.14.xlsx',\n",
       " 'C:\\\\Users\\\\FFR0103\\\\Desktop\\\\My files\\\\WORK\\\\Auto part\\\\Mattress Firm\\\\Source\\\\CHECKLIST FOR VEHICLE TRANSFERS_update.xlsx',\n",
       " 'C:\\\\Users\\\\FFR0103\\\\Desktop\\\\My files\\\\WORK\\\\Auto part\\\\Mattress Firm\\\\Source\\\\Chicago Truck Information.xlsx',\n",
       " 'C:\\\\Users\\\\FFR0103\\\\Desktop\\\\My files\\\\WORK\\\\Auto part\\\\Mattress Firm\\\\Source\\\\Copy of Q2-2013 Truck Inventory Update 081913 - 12.16.13.xls',\n",
       " 'C:\\\\Users\\\\FFR0103\\\\Desktop\\\\My files\\\\WORK\\\\Auto part\\\\Mattress Firm\\\\Source\\\\Copy of Q2-2013 Truck Inventory Update JK Revised.xlsx',\n",
       " 'C:\\\\Users\\\\FFR0103\\\\Desktop\\\\My files\\\\WORK\\\\Auto part\\\\Mattress Firm\\\\Source\\\\Copy of Researched Vehicle Data.xlsx',\n",
       " 'C:\\\\Users\\\\FFR0103\\\\Desktop\\\\My files\\\\WORK\\\\Auto part\\\\Mattress Firm\\\\Source\\\\HAA Status.xls',\n",
       " 'C:\\\\Users\\\\FFR0103\\\\Desktop\\\\My files\\\\WORK\\\\Auto part\\\\Mattress Firm\\\\Source\\\\Mattress Firm Auto Parts Schedule.xlsx',\n",
       " 'C:\\\\Users\\\\FFR0103\\\\Desktop\\\\My files\\\\WORK\\\\Auto part\\\\Mattress Firm\\\\Source\\\\Mattress Inc 2014 Final Vehicle List.xlsx',\n",
       " 'C:\\\\Users\\\\FFR0103\\\\Desktop\\\\My files\\\\WORK\\\\Auto part\\\\Mattress Firm\\\\Source\\\\Mattress Liquidator Trucks.xls',\n",
       " 'C:\\\\Users\\\\FFR0103\\\\Desktop\\\\My files\\\\WORK\\\\Auto part\\\\Mattress Firm\\\\Source\\\\MF List.xlsx',\n",
       " 'C:\\\\Users\\\\FFR0103\\\\Desktop\\\\My files\\\\WORK\\\\Auto part\\\\Mattress Firm\\\\Source\\\\P1-2013 Truck Detail.xlsx',\n",
       " 'C:\\\\Users\\\\FFR0103\\\\Desktop\\\\My files\\\\WORK\\\\Auto part\\\\Mattress Firm\\\\Source\\\\P1-2013 Truck Inventory Update.xlsx',\n",
       " 'C:\\\\Users\\\\FFR0103\\\\Desktop\\\\My files\\\\WORK\\\\Auto part\\\\Mattress Firm\\\\Source\\\\P1-2013 Truck Inventory.xlsx',\n",
       " 'C:\\\\Users\\\\FFR0103\\\\Desktop\\\\My files\\\\WORK\\\\Auto part\\\\Mattress Firm\\\\Source\\\\P1-2013 Truck Moves.xlsx',\n",
       " 'C:\\\\Users\\\\FFR0103\\\\Desktop\\\\My files\\\\WORK\\\\Auto part\\\\Mattress Firm\\\\Source\\\\P1-2013 Trucks.xlsx',\n",
       " 'C:\\\\Users\\\\FFR0103\\\\Desktop\\\\My files\\\\WORK\\\\Auto part\\\\Mattress Firm\\\\Source\\\\P3-2013 Truck Inventory Update.xlsx',\n",
       " 'C:\\\\Users\\\\FFR0103\\\\Desktop\\\\My files\\\\WORK\\\\Auto part\\\\Mattress Firm\\\\Source\\\\P3-2013 Truck Inventory.xlsx',\n",
       " 'C:\\\\Users\\\\FFR0103\\\\Desktop\\\\My files\\\\WORK\\\\Auto part\\\\Mattress Firm\\\\Source\\\\P3-2013 Trucks.xlsx',\n",
       " 'C:\\\\Users\\\\FFR0103\\\\Desktop\\\\My files\\\\WORK\\\\Auto part\\\\Mattress Firm\\\\Source\\\\PD01-FY2014 Truck Inventory Update 043014.xlsx',\n",
       " 'C:\\\\Users\\\\FFR0103\\\\Desktop\\\\My files\\\\WORK\\\\Auto part\\\\Mattress Firm\\\\Source\\\\Penske Lease List_032612.xls',\n",
       " 'C:\\\\Users\\\\FFR0103\\\\Desktop\\\\My files\\\\WORK\\\\Auto part\\\\Mattress Firm\\\\Source\\\\Proj Hawk - Truck Requirements.xls',\n",
       " 'C:\\\\Users\\\\FFR0103\\\\Desktop\\\\My files\\\\WORK\\\\Auto part\\\\Mattress Firm\\\\Source\\\\Q2-2013 Truck HAA 112213.xls',\n",
       " 'C:\\\\Users\\\\FFR0103\\\\Desktop\\\\My files\\\\WORK\\\\Auto part\\\\Mattress Firm\\\\Source\\\\Q2-2013 Truck Inventory HAA 112213.xls',\n",
       " 'C:\\\\Users\\\\FFR0103\\\\Desktop\\\\My files\\\\WORK\\\\Auto part\\\\Mattress Firm\\\\Source\\\\Q2-2013 Truck Inventory Update 081913 - 12 16 13.xls',\n",
       " 'C:\\\\Users\\\\FFR0103\\\\Desktop\\\\My files\\\\WORK\\\\Auto part\\\\Mattress Firm\\\\Source\\\\Q2-2013 Truck Inventory Update 081913 - 12.16.13.xls',\n",
       " 'C:\\\\Users\\\\FFR0103\\\\Desktop\\\\My files\\\\WORK\\\\Auto part\\\\Mattress Firm\\\\Source\\\\Q2-2013 Truck Inventory Update 081913.xls',\n",
       " 'C:\\\\Users\\\\FFR0103\\\\Desktop\\\\My files\\\\WORK\\\\Auto part\\\\Mattress Firm\\\\Source\\\\Q2-2013 Truck Inventory Update.xlsx',\n",
       " 'C:\\\\Users\\\\FFR0103\\\\Desktop\\\\My files\\\\WORK\\\\Auto part\\\\Mattress Firm\\\\Source\\\\Q2-2013 Truck Inventory.xlsx',\n",
       " 'C:\\\\Users\\\\FFR0103\\\\Desktop\\\\My files\\\\WORK\\\\Auto part\\\\Mattress Firm\\\\Source\\\\Q2-2013 Trucks.xls',\n",
       " 'C:\\\\Users\\\\FFR0103\\\\Desktop\\\\My files\\\\WORK\\\\Auto part\\\\Mattress Firm\\\\Source\\\\Vehicle (073000) Details.xlsx',\n",
       " 'C:\\\\Users\\\\FFR0103\\\\Desktop\\\\My files\\\\WORK\\\\Auto part\\\\Mattress Firm\\\\Source\\\\Vehicle (073000).xlsx',\n",
       " 'C:\\\\Users\\\\FFR0103\\\\Desktop\\\\My files\\\\WORK\\\\Auto part\\\\Mattress Firm\\\\Source\\\\Vehicle Inventory Spreadsheet 08 19 13.xls',\n",
       " 'C:\\\\Users\\\\FFR0103\\\\Desktop\\\\My files\\\\WORK\\\\Auto part\\\\Mattress Firm\\\\Source\\\\Vehicle Inventory Spreadsheet.xls',\n",
       " 'C:\\\\Users\\\\FFR0103\\\\Desktop\\\\My files\\\\WORK\\\\Auto part\\\\Mattress Firm\\\\Source\\\\Vehicles Inventory Spreadsheet.xls',\n",
       " 'C:\\\\Users\\\\FFR0103\\\\Desktop\\\\My files\\\\WORK\\\\Auto part\\\\Mattress Firm\\\\Source\\\\VH Report for Kamal - F12 P11.xlsx']"
      ]
     },
     "execution_count": 3,
     "metadata": {},
     "output_type": "execute_result"
    }
   ],
   "source": [
    "FileName"
   ]
  },
  {
   "cell_type": "code",
   "execution_count": 76,
   "metadata": {
    "ExecuteTime": {
     "end_time": "2020-01-03T19:17:59.787832Z",
     "start_time": "2020-01-03T19:17:59.754892Z"
    },
    "scrolled": true
   },
   "outputs": [
    {
     "name": "stdout",
     "output_type": "stream",
     "text": [
      "27\n",
      "12\n"
     ]
    }
   ],
   "source": [
    "df1 = pd.read_excel(FileName[0],sheet_name=None)\n",
    "for sheet in df1:\n",
    "    print(len(df1[sheet]))"
   ]
  },
  {
   "cell_type": "code",
   "execution_count": 60,
   "metadata": {
    "ExecuteTime": {
     "end_time": "2020-01-03T18:05:27.138259Z",
     "start_time": "2020-01-03T18:05:27.121307Z"
    },
    "collapsed": true
   },
   "outputs": [
    {
     "data": {
      "text/plain": [
       "Index(['Customer Number', 'Customer Name', 'Bill Group', 'Penske District #',\n",
       "       'Penske District Name', 'Penske Unit Number', 'Vehicle Category',\n",
       "       'Description', 'Year', 'Make', 'Model', 'VIN #',\n",
       "       'Usage (Power /Reefer)', 'Original In-Service Date',\n",
       "       'Contract Expiration Date', 'Schedule A #', 'Schedule A Date',\n",
       "       'Lease Type', 'Lease Date', 'Current Fixed Rate',\n",
       "       'Current Mileage Rate', 'Last Mileage Reading', 'License Plate #',\n",
       "       'License Plate State', 'Vehicle Mfr's Gross Weight'],\n",
       "      dtype='object')"
      ]
     },
     "metadata": {},
     "output_type": "display_data"
    },
    {
     "data": {
      "text/plain": [
       "array([False, False, False, False, False, False, False, False, False,\n",
       "       False, False,  True, False, False, False, False, False, False,\n",
       "       False, False, False, False, False,  True, False])"
      ]
     },
     "metadata": {},
     "output_type": "display_data"
    },
    {
     "data": {
      "text/plain": [
       "array([False, False, False, False, False, False, False, False, False,\n",
       "       False, False,  True, False, False, False, False, False, False,\n",
       "       False, False, False, False, False, False, False])"
      ]
     },
     "execution_count": 60,
     "metadata": {},
     "output_type": "execute_result"
    }
   ],
   "source": [
    "type(df1)\n",
    "display(df1[list(df1.keys())[1]].columns)\n",
    "display(df1[list(df1.keys())[1]].columns.str.contains('state|vin',regex = True, case = False))\n",
    "df1[list(df1.keys())[1]].columns.str.lower().str.contains('vin')"
   ]
  },
  {
   "cell_type": "code",
   "execution_count": 61,
   "metadata": {
    "ExecuteTime": {
     "end_time": "2020-01-03T18:05:53.834651Z",
     "start_time": "2020-01-03T18:05:53.822686Z"
    },
    "collapsed": true
   },
   "outputs": [
    {
     "data": {
      "text/html": [
       "<div>\n",
       "<style scoped>\n",
       "    .dataframe tbody tr th:only-of-type {\n",
       "        vertical-align: middle;\n",
       "    }\n",
       "\n",
       "    .dataframe tbody tr th {\n",
       "        vertical-align: top;\n",
       "    }\n",
       "\n",
       "    .dataframe thead th {\n",
       "        text-align: right;\n",
       "    }\n",
       "</style>\n",
       "<table border=\"1\" class=\"dataframe\">\n",
       "  <thead>\n",
       "    <tr style=\"text-align: right;\">\n",
       "      <th></th>\n",
       "      <th>VIN #</th>\n",
       "      <th>License Plate State</th>\n",
       "    </tr>\n",
       "  </thead>\n",
       "  <tbody>\n",
       "    <tr>\n",
       "      <th>0</th>\n",
       "      <td>1FVACWCS77DZ23370</td>\n",
       "      <td>FL</td>\n",
       "    </tr>\n",
       "    <tr>\n",
       "      <th>1</th>\n",
       "      <td>1FVACWDT9CHBP3080</td>\n",
       "      <td>TX</td>\n",
       "    </tr>\n",
       "    <tr>\n",
       "      <th>2</th>\n",
       "      <td>1FVACWDT0CHBP3081</td>\n",
       "      <td>TX</td>\n",
       "    </tr>\n",
       "    <tr>\n",
       "      <th>3</th>\n",
       "      <td>1FVACWDT2CHBP3082</td>\n",
       "      <td>FL</td>\n",
       "    </tr>\n",
       "    <tr>\n",
       "      <th>4</th>\n",
       "      <td>1FVACWCS97DZ23368</td>\n",
       "      <td>TX</td>\n",
       "    </tr>\n",
       "    <tr>\n",
       "      <th>5</th>\n",
       "      <td>1FVACWDT4CHBP3083</td>\n",
       "      <td>FL</td>\n",
       "    </tr>\n",
       "    <tr>\n",
       "      <th>6</th>\n",
       "      <td>1FVACWDT6CHBP3084</td>\n",
       "      <td>FL</td>\n",
       "    </tr>\n",
       "    <tr>\n",
       "      <th>7</th>\n",
       "      <td></td>\n",
       "      <td></td>\n",
       "    </tr>\n",
       "    <tr>\n",
       "      <th>8</th>\n",
       "      <td>1FVACWCS07DZ23369</td>\n",
       "      <td>FL</td>\n",
       "    </tr>\n",
       "    <tr>\n",
       "      <th>9</th>\n",
       "      <td>1FVACWCS97DZ23371</td>\n",
       "      <td>FL</td>\n",
       "    </tr>\n",
       "    <tr>\n",
       "      <th>10</th>\n",
       "      <td>1FVACWDT8CHBP3085</td>\n",
       "      <td>TX</td>\n",
       "    </tr>\n",
       "    <tr>\n",
       "      <th>11</th>\n",
       "      <td>1HTMMAAL96H319768</td>\n",
       "      <td>NV</td>\n",
       "    </tr>\n",
       "  </tbody>\n",
       "</table>\n",
       "</div>"
      ],
      "text/plain": [
       "                   VIN # License Plate State\n",
       "0      1FVACWCS77DZ23370                  FL\n",
       "1      1FVACWDT9CHBP3080                  TX\n",
       "2      1FVACWDT0CHBP3081                  TX\n",
       "3      1FVACWDT2CHBP3082                  FL\n",
       "4      1FVACWCS97DZ23368                  TX\n",
       "5      1FVACWDT4CHBP3083                  FL\n",
       "6      1FVACWDT6CHBP3084                  FL\n",
       "7                                           \n",
       "8      1FVACWCS07DZ23369                  FL\n",
       "9      1FVACWCS97DZ23371                  FL\n",
       "10     1FVACWDT8CHBP3085                  TX\n",
       "11     1HTMMAAL96H319768                  NV"
      ]
     },
     "execution_count": 61,
     "metadata": {},
     "output_type": "execute_result"
    }
   ],
   "source": [
    "df1['Output'].loc[:,df1[list(df1.keys())[1]].columns.str.contains('state|vin',regex = True, case = False)]"
   ]
  },
  {
   "cell_type": "code",
   "execution_count": 118,
   "metadata": {
    "ExecuteTime": {
     "end_time": "2020-01-03T20:24:45.905911Z",
     "start_time": "2020-01-03T20:24:45.898929Z"
    }
   },
   "outputs": [
    {
     "data": {
      "text/plain": [
       "'01-17-2013 - Mattress Firm - Adhoc.xlsx'"
      ]
     },
     "execution_count": 118,
     "metadata": {},
     "output_type": "execute_result"
    }
   ],
   "source": [
    "FileName[1].split('\\\\')[-1]"
   ]
  },
  {
   "cell_type": "code",
   "execution_count": 134,
   "metadata": {
    "ExecuteTime": {
     "end_time": "2020-01-03T20:37:58.253935Z",
     "start_time": "2020-01-03T20:37:54.234670Z"
    },
    "collapsed": true
   },
   "outputs": [
    {
     "name": "stdout",
     "output_type": "stream",
     "text": [
      "#of file 0\n",
      "#of file 1\n",
      "#of file 2\n",
      "#of file 3\n",
      "#of file 4\n",
      "#of file 5\n",
      "#of file 6\n",
      "#of file 7\n",
      "#of file 8\n",
      "#of file 9\n",
      "#of file 10\n",
      "#of file 11\n",
      "#of file 12\n",
      "#of file 13\n",
      "#of file 14\n",
      "#of file 15\n",
      "#of file 16\n",
      "#of file 17\n",
      "#of file 18\n",
      "#of file 19\n",
      "#of file 20\n",
      "#of file 21\n",
      "#of file 22\n",
      "#of file 23\n",
      "#of file 24\n",
      "#of file 25\n",
      "#of file 26\n",
      "#of file 27\n",
      "#of file 28\n",
      "#of file 29\n",
      "#of file 30\n",
      "#of file 31\n",
      "#of file 32\n",
      "#of file 33\n",
      "#of file 34\n",
      "#of file 35\n",
      "#of file 36\n",
      "#of file 37\n",
      "#of file 38\n",
      "#of file 39\n",
      "#of file 40\n",
      "#of file 41\n",
      "#of file 42\n",
      "#of file 43\n"
     ]
    }
   ],
   "source": [
    "Dict = {}\n",
    "for i,file in enumerate(FileName):\n",
    "    print('#of file',i)\n",
    "    DF = pd.read_excel(file,sheet_name=None)\n",
    "    for sheet in DF:        \n",
    "        if len(DF[sheet]) > 0:\n",
    "            if DF[sheet].columns.str.contains('state|vin',regex = True, case = False,na=False).sum() > 0:\n",
    "                Dict['FileName: ' + file.split('\\\\')[-1] + \" | SheetName: \" + sheet] = DF[sheet].loc[:,DF[sheet].columns.str.contains('state|vin',regex = True, case = False,na=False)]\n",
    "\n",
    "    \n",
    "    "
   ]
  },
  {
   "cell_type": "code",
   "execution_count": 137,
   "metadata": {
    "ExecuteTime": {
     "end_time": "2020-01-03T20:41:21.225051Z",
     "start_time": "2020-01-03T20:41:21.112065Z"
    }
   },
   "outputs": [],
   "source": [
    "result = pd.concat(Dict,sort=False)\n",
    "result.to_excel('C:\\\\Users\\\\FFR0103\\\\Desktop\\\\My files\\\\WORK\\\\Auto part\\\\Mattress Firm\\\\Output\\\\result.xlsx')"
   ]
  }
 ],
 "metadata": {
  "kernelspec": {
   "display_name": "Python 3",
   "language": "python",
   "name": "python3"
  },
  "language_info": {
   "codemirror_mode": {
    "name": "ipython",
    "version": 3
   },
   "file_extension": ".py",
   "mimetype": "text/x-python",
   "name": "python",
   "nbconvert_exporter": "python",
   "pygments_lexer": "ipython3",
   "version": "3.7.3"
  }
 },
 "nbformat": 4,
 "nbformat_minor": 2
}
