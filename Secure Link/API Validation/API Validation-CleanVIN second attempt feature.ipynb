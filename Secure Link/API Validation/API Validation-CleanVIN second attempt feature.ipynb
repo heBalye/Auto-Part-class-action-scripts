{
 "cells": [
  {
   "cell_type": "code",
   "execution_count": 1,
   "metadata": {
    "ExecuteTime": {
     "end_time": "2020-01-18T06:22:24.421714Z",
     "start_time": "2020-01-18T06:22:23.562748Z"
    }
   },
   "outputs": [],
   "source": [
    "from CleanVIN import ValidationProcess, Col_to_str\n",
    "import pandas as pd"
   ]
  },
  {
   "cell_type": "code",
   "execution_count": 2,
   "metadata": {
    "ExecuteTime": {
     "end_time": "2020-01-18T06:22:26.877935Z",
     "start_time": "2020-01-18T06:22:24.938095Z"
    },
    "scrolled": true
   },
   "outputs": [
    {
     "data": {
      "text/html": [
       "<div>\n",
       "<style scoped>\n",
       "    .dataframe tbody tr th:only-of-type {\n",
       "        vertical-align: middle;\n",
       "    }\n",
       "\n",
       "    .dataframe tbody tr th {\n",
       "        vertical-align: top;\n",
       "    }\n",
       "\n",
       "    .dataframe thead th {\n",
       "        text-align: right;\n",
       "    }\n",
       "</style>\n",
       "<table border=\"1\" class=\"dataframe\">\n",
       "  <thead>\n",
       "    <tr style=\"text-align: right;\">\n",
       "      <th></th>\n",
       "      <th>VIN</th>\n",
       "      <th>RowID</th>\n",
       "    </tr>\n",
       "  </thead>\n",
       "  <tbody>\n",
       "    <tr>\n",
       "      <th>0</th>\n",
       "      <td>1FDSE37F6WHB46480</td>\n",
       "      <td>1</td>\n",
       "    </tr>\n",
       "    <tr>\n",
       "      <th>1</th>\n",
       "      <td>1HVBBAAN9TH295537</td>\n",
       "      <td>2</td>\n",
       "    </tr>\n",
       "    <tr>\n",
       "      <th>2</th>\n",
       "      <td>1GNFG154X81173240</td>\n",
       "      <td>3</td>\n",
       "    </tr>\n",
       "    <tr>\n",
       "      <th>3</th>\n",
       "      <td>1HVBBABN2WH568336</td>\n",
       "      <td>4</td>\n",
       "    </tr>\n",
       "    <tr>\n",
       "      <th>4</th>\n",
       "      <td>1GBJG31K491142168</td>\n",
       "      <td>5</td>\n",
       "    </tr>\n",
       "    <tr>\n",
       "      <th>5</th>\n",
       "      <td>1HVBBAAN44H673734</td>\n",
       "      <td>6</td>\n",
       "    </tr>\n",
       "    <tr>\n",
       "      <th>6</th>\n",
       "      <td>1GB3GRBG0G1305627</td>\n",
       "      <td>7</td>\n",
       "    </tr>\n",
       "    <tr>\n",
       "      <th>7</th>\n",
       "      <td>1BAKGCSA8JF345393</td>\n",
       "      <td>8</td>\n",
       "    </tr>\n",
       "    <tr>\n",
       "      <th>8</th>\n",
       "      <td>1GBJG31F821189664</td>\n",
       "      <td>9</td>\n",
       "    </tr>\n",
       "    <tr>\n",
       "      <th>9</th>\n",
       "      <td>4UZABRFC1JCJT6587</td>\n",
       "      <td>10</td>\n",
       "    </tr>\n",
       "    <tr>\n",
       "      <th>10</th>\n",
       "      <td>1FTNS24263HA11260</td>\n",
       "      <td>11</td>\n",
       "    </tr>\n",
       "    <tr>\n",
       "      <th>11</th>\n",
       "      <td>1BAKDCKH05F226071</td>\n",
       "      <td>12</td>\n",
       "    </tr>\n",
       "    <tr>\n",
       "      <th>12</th>\n",
       "      <td>4DRBVAAP25A986852</td>\n",
       "      <td>13</td>\n",
       "    </tr>\n",
       "    <tr>\n",
       "      <th>13</th>\n",
       "      <td>1GB6G5BL9F1278784</td>\n",
       "      <td>14</td>\n",
       "    </tr>\n",
       "    <tr>\n",
       "      <th>14</th>\n",
       "      <td>1FD2E35L18DB33252</td>\n",
       "      <td>15</td>\n",
       "    </tr>\n",
       "    <tr>\n",
       "      <th>15</th>\n",
       "      <td>2C7WDGBG4JR303729</td>\n",
       "      <td>16</td>\n",
       "    </tr>\n",
       "    <tr>\n",
       "      <th>16</th>\n",
       "      <td>SSL000273000</td>\n",
       "      <td>17</td>\n",
       "    </tr>\n",
       "    <tr>\n",
       "      <th>17</th>\n",
       "      <td>1GBHG31Y8SF226554</td>\n",
       "      <td>18</td>\n",
       "    </tr>\n",
       "    <tr>\n",
       "      <th>18</th>\n",
       "      <td>1BAKGCKA69F257650</td>\n",
       "      <td>19</td>\n",
       "    </tr>\n",
       "    <tr>\n",
       "      <th>19</th>\n",
       "      <td>4DRBUSKN0AB236232</td>\n",
       "      <td>20</td>\n",
       "    </tr>\n",
       "    <tr>\n",
       "      <th>20</th>\n",
       "      <td>4UZABRDT6CCBP2493</td>\n",
       "      <td>21</td>\n",
       "    </tr>\n",
       "    <tr>\n",
       "      <th>21</th>\n",
       "      <td>1FTWF3BR1AEA75252</td>\n",
       "      <td>22</td>\n",
       "    </tr>\n",
       "    <tr>\n",
       "      <th>22</th>\n",
       "      <td>4DRBRAAN74B968133</td>\n",
       "      <td>23</td>\n",
       "    </tr>\n",
       "    <tr>\n",
       "      <th>23</th>\n",
       "      <td>4UZABRFC5JCJT6656</td>\n",
       "      <td>24</td>\n",
       "    </tr>\n",
       "    <tr>\n",
       "      <th>24</th>\n",
       "      <td>HF0000063000</td>\n",
       "      <td>25</td>\n",
       "    </tr>\n",
       "    <tr>\n",
       "      <th>25</th>\n",
       "      <td>1FDWE35F13HB13869</td>\n",
       "      <td>26</td>\n",
       "    </tr>\n",
       "    <tr>\n",
       "      <th>26</th>\n",
       "      <td>1GDHG31Y3SF552818</td>\n",
       "      <td>27</td>\n",
       "    </tr>\n",
       "    <tr>\n",
       "      <th>27</th>\n",
       "      <td>4UZABRDU5BCAU5032</td>\n",
       "      <td>28</td>\n",
       "    </tr>\n",
       "    <tr>\n",
       "      <th>28</th>\n",
       "      <td>1HVBBABP4XH201540</td>\n",
       "      <td>29</td>\n",
       "    </tr>\n",
       "    <tr>\n",
       "      <th>29</th>\n",
       "      <td>1T75L3B2XS1139050</td>\n",
       "      <td>30</td>\n",
       "    </tr>\n",
       "    <tr>\n",
       "      <th>...</th>\n",
       "      <td>...</td>\n",
       "      <td>...</td>\n",
       "    </tr>\n",
       "    <tr>\n",
       "      <th>46867</th>\n",
       "      <td>4UZABRDT08CZ63901</td>\n",
       "      <td>46869</td>\n",
       "    </tr>\n",
       "    <tr>\n",
       "      <th>46868</th>\n",
       "      <td>4DRBUAFP16A988220</td>\n",
       "      <td>46870</td>\n",
       "    </tr>\n",
       "    <tr>\n",
       "      <th>46869</th>\n",
       "      <td>1GB6GUBGXH1194747</td>\n",
       "      <td>46871</td>\n",
       "    </tr>\n",
       "    <tr>\n",
       "      <th>46870</th>\n",
       "      <td>4UZABRDT8HCHS4924</td>\n",
       "      <td>46872</td>\n",
       "    </tr>\n",
       "    <tr>\n",
       "      <th>46871</th>\n",
       "      <td>L3BNR0N</td>\n",
       "      <td>46873</td>\n",
       "    </tr>\n",
       "    <tr>\n",
       "      <th>46872</th>\n",
       "      <td>1BAAHCPA02F205065</td>\n",
       "      <td>46874</td>\n",
       "    </tr>\n",
       "    <tr>\n",
       "      <th>46873</th>\n",
       "      <td>CAC84301S7</td>\n",
       "      <td>46875</td>\n",
       "    </tr>\n",
       "    <tr>\n",
       "      <th>46874</th>\n",
       "      <td>1T88P4E22B1138568</td>\n",
       "      <td>46876</td>\n",
       "    </tr>\n",
       "    <tr>\n",
       "      <th>46875</th>\n",
       "      <td>4UZABRDT0ACAR2149ADJ</td>\n",
       "      <td>46877</td>\n",
       "    </tr>\n",
       "    <tr>\n",
       "      <th>46876</th>\n",
       "      <td>1T7YU4E27B1135713</td>\n",
       "      <td>46878</td>\n",
       "    </tr>\n",
       "    <tr>\n",
       "      <th>46877</th>\n",
       "      <td>JTDZN3EU3HJ072126</td>\n",
       "      <td>46879</td>\n",
       "    </tr>\n",
       "    <tr>\n",
       "      <th>46878</th>\n",
       "      <td>4UZABRDT5DCBZ7449</td>\n",
       "      <td>46880</td>\n",
       "    </tr>\n",
       "    <tr>\n",
       "      <th>46879</th>\n",
       "      <td>1D4GP25R57B187511</td>\n",
       "      <td>46881</td>\n",
       "    </tr>\n",
       "    <tr>\n",
       "      <th>46880</th>\n",
       "      <td>2C4RDGBG2GR139996</td>\n",
       "      <td>46882</td>\n",
       "    </tr>\n",
       "    <tr>\n",
       "      <th>46881</th>\n",
       "      <td>1GBHG31C191155175</td>\n",
       "      <td>46883</td>\n",
       "    </tr>\n",
       "    <tr>\n",
       "      <th>46882</th>\n",
       "      <td>1T88N3B27X1068772</td>\n",
       "      <td>46884</td>\n",
       "    </tr>\n",
       "    <tr>\n",
       "      <th>46883</th>\n",
       "      <td>4DRBUAAP5AB142313</td>\n",
       "      <td>46885</td>\n",
       "    </tr>\n",
       "    <tr>\n",
       "      <th>46884</th>\n",
       "      <td>4DRBUC8P2GB221657</td>\n",
       "      <td>46886</td>\n",
       "    </tr>\n",
       "    <tr>\n",
       "      <th>46885</th>\n",
       "      <td>4UZAAXAK82CJ43236</td>\n",
       "      <td>46887</td>\n",
       "    </tr>\n",
       "    <tr>\n",
       "      <th>46886</th>\n",
       "      <td>1GB6G5BL8D1172162</td>\n",
       "      <td>46888</td>\n",
       "    </tr>\n",
       "    <tr>\n",
       "      <th>46887</th>\n",
       "      <td>1BAKFCKH75F228863</td>\n",
       "      <td>46889</td>\n",
       "    </tr>\n",
       "    <tr>\n",
       "      <th>46888</th>\n",
       "      <td>1FDSE37F3WHA40620</td>\n",
       "      <td>46890</td>\n",
       "    </tr>\n",
       "    <tr>\n",
       "      <th>46889</th>\n",
       "      <td>4DRBUSKN6AB229026</td>\n",
       "      <td>46891</td>\n",
       "    </tr>\n",
       "    <tr>\n",
       "      <th>46890</th>\n",
       "      <td>4UZAAXDG06CV69693</td>\n",
       "      <td>46892</td>\n",
       "    </tr>\n",
       "    <tr>\n",
       "      <th>46891</th>\n",
       "      <td>1N9MLACL7AC084161</td>\n",
       "      <td>46893</td>\n",
       "    </tr>\n",
       "    <tr>\n",
       "      <th>46892</th>\n",
       "      <td>4UZABRDU6BCAU5007</td>\n",
       "      <td>46894</td>\n",
       "    </tr>\n",
       "    <tr>\n",
       "      <th>46893</th>\n",
       "      <td>4UZABRDU1BCAU5058</td>\n",
       "      <td>46895</td>\n",
       "    </tr>\n",
       "    <tr>\n",
       "      <th>46894</th>\n",
       "      <td>1BABHCKA75F219447ADJ</td>\n",
       "      <td>46896</td>\n",
       "    </tr>\n",
       "    <tr>\n",
       "      <th>46895</th>\n",
       "      <td>4DRBUC8N2KB685538</td>\n",
       "      <td>46897</td>\n",
       "    </tr>\n",
       "    <tr>\n",
       "      <th>46896</th>\n",
       "      <td>1GDL7T1B7YJ525553</td>\n",
       "      <td>46898</td>\n",
       "    </tr>\n",
       "  </tbody>\n",
       "</table>\n",
       "<p>46897 rows × 2 columns</p>\n",
       "</div>"
      ],
      "text/plain": [
       "                        VIN  RowID\n",
       "0         1FDSE37F6WHB46480      1\n",
       "1         1HVBBAAN9TH295537      2\n",
       "2         1GNFG154X81173240      3\n",
       "3         1HVBBABN2WH568336      4\n",
       "4         1GBJG31K491142168      5\n",
       "5         1HVBBAAN44H673734      6\n",
       "6         1GB3GRBG0G1305627      7\n",
       "7         1BAKGCSA8JF345393      8\n",
       "8         1GBJG31F821189664      9\n",
       "9         4UZABRFC1JCJT6587     10\n",
       "10        1FTNS24263HA11260     11\n",
       "11        1BAKDCKH05F226071     12\n",
       "12        4DRBVAAP25A986852     13\n",
       "13        1GB6G5BL9F1278784     14\n",
       "14        1FD2E35L18DB33252     15\n",
       "15        2C7WDGBG4JR303729     16\n",
       "16             SSL000273000     17\n",
       "17        1GBHG31Y8SF226554     18\n",
       "18        1BAKGCKA69F257650     19\n",
       "19        4DRBUSKN0AB236232     20\n",
       "20        4UZABRDT6CCBP2493     21\n",
       "21        1FTWF3BR1AEA75252     22\n",
       "22        4DRBRAAN74B968133     23\n",
       "23        4UZABRFC5JCJT6656     24\n",
       "24             HF0000063000     25\n",
       "25        1FDWE35F13HB13869     26\n",
       "26        1GDHG31Y3SF552818     27\n",
       "27        4UZABRDU5BCAU5032     28\n",
       "28        1HVBBABP4XH201540     29\n",
       "29        1T75L3B2XS1139050     30\n",
       "...                     ...    ...\n",
       "46867     4UZABRDT08CZ63901  46869\n",
       "46868     4DRBUAFP16A988220  46870\n",
       "46869     1GB6GUBGXH1194747  46871\n",
       "46870     4UZABRDT8HCHS4924  46872\n",
       "46871               L3BNR0N  46873\n",
       "46872     1BAAHCPA02F205065  46874\n",
       "46873            CAC84301S7  46875\n",
       "46874     1T88P4E22B1138568  46876\n",
       "46875  4UZABRDT0ACAR2149ADJ  46877\n",
       "46876     1T7YU4E27B1135713  46878\n",
       "46877     JTDZN3EU3HJ072126  46879\n",
       "46878     4UZABRDT5DCBZ7449  46880\n",
       "46879     1D4GP25R57B187511  46881\n",
       "46880     2C4RDGBG2GR139996  46882\n",
       "46881     1GBHG31C191155175  46883\n",
       "46882     1T88N3B27X1068772  46884\n",
       "46883     4DRBUAAP5AB142313  46885\n",
       "46884     4DRBUC8P2GB221657  46886\n",
       "46885     4UZAAXAK82CJ43236  46887\n",
       "46886     1GB6G5BL8D1172162  46888\n",
       "46887     1BAKFCKH75F228863  46889\n",
       "46888     1FDSE37F3WHA40620  46890\n",
       "46889     4DRBUSKN6AB229026  46891\n",
       "46890     4UZAAXDG06CV69693  46892\n",
       "46891     1N9MLACL7AC084161  46893\n",
       "46892     4UZABRDU6BCAU5007  46894\n",
       "46893     4UZABRDU1BCAU5058  46895\n",
       "46894  1BABHCKA75F219447ADJ  46896\n",
       "46895     4DRBUC8N2KB685538  46897\n",
       "46896     1GDL7T1B7YJ525553  46898\n",
       "\n",
       "[46897 rows x 2 columns]"
      ]
     },
     "execution_count": 2,
     "metadata": {},
     "output_type": "execute_result"
    }
   ],
   "source": [
    "df = pd.read_excel(r'C:\\Users\\FFR0103\\Desktop\\My files\\WORK\\Auto part\\Secure Link\\Source\\API\\VINs to validate.xlsx')\n",
    "df"
   ]
  },
  {
   "cell_type": "code",
   "execution_count": null,
   "metadata": {
    "ExecuteTime": {
     "end_time": "2020-01-18T00:31:27.381121Z",
     "start_time": "2020-01-18T00:31:27.342228Z"
    }
   },
   "outputs": [],
   "source": [
    "df[df.VIN.str.contains(\";\")]"
   ]
  },
  {
   "cell_type": "code",
   "execution_count": null,
   "metadata": {
    "ExecuteTime": {
     "end_time": "2020-01-18T00:31:32.794693Z",
     "start_time": "2020-01-18T00:31:32.749821Z"
    }
   },
   "outputs": [],
   "source": [
    "df[df.VIN.str.contains(\",\")]"
   ]
  },
  {
   "cell_type": "code",
   "execution_count": 3,
   "metadata": {
    "ExecuteTime": {
     "end_time": "2020-01-18T06:22:30.080422Z",
     "start_time": "2020-01-18T06:22:30.070483Z"
    }
   },
   "outputs": [],
   "source": [
    "df_1 = df.iloc[:10000,:]\n",
    "df_2 = df.iloc[10000:20000,:]\n",
    "df_3 = df.iloc[20000:30000,:]\n",
    "df_4 = df.iloc[30000:40000,:]\n",
    "df_5 = df.iloc[40000:,:]"
   ]
  },
  {
   "cell_type": "code",
   "execution_count": null,
   "metadata": {
    "ExecuteTime": {
     "end_time": "2020-01-17T22:28:48.035822Z",
     "start_time": "2020-01-17T22:28:47.998920Z"
    }
   },
   "outputs": [],
   "source": [
    "QC = pd.concat([df_1,df_2,df_3,df_4,df_5]) == df\n",
    "QC[(QC['VIN'] == False)|(QC['RowID'] == False)]"
   ]
  },
  {
   "cell_type": "markdown",
   "metadata": {},
   "source": [
    "## 5th Batch"
   ]
  },
  {
   "cell_type": "code",
   "execution_count": null,
   "metadata": {
    "ExecuteTime": {
     "end_time": "2020-01-18T00:22:22.755210Z",
     "start_time": "2020-01-18T00:22:22.748225Z"
    }
   },
   "outputs": [],
   "source": [
    "data_5 = Col_to_str(df_5[5000:],'VIN',';')\n",
    "data_5.count(';')"
   ]
  },
  {
   "cell_type": "code",
   "execution_count": null,
   "metadata": {
    "ExecuteTime": {
     "end_time": "2020-01-17T23:38:15.230338Z",
     "start_time": "2020-01-17T23:38:15.222358Z"
    }
   },
   "outputs": [],
   "source": [
    "import glob\n",
    "glob.glob(r'C:\\Users\\FFR0103\\Desktop\\My files\\WORK\\Auto part\\Secure Link\\Output\\*')"
   ]
  },
  {
   "cell_type": "code",
   "execution_count": 4,
   "metadata": {
    "ExecuteTime": {
     "end_time": "2020-01-18T06:22:38.024302Z",
     "start_time": "2020-01-18T06:22:38.013331Z"
    }
   },
   "outputs": [
    {
     "data": {
      "text/plain": [
       "'2C3HD46R62H103186;LS,35W,10CHB;4UZABRFC1JCJT6606;3GKGC26F7XG546060'"
      ]
     },
     "execution_count": 4,
     "metadata": {},
     "output_type": "execute_result"
    }
   ],
   "source": [
    "process_5 = ValidationProcess(Col_to_str(df_5[5000:],'VIN',';'),4)\n",
    "process_5.split_to_Chunk(4)['Chunk144']"
   ]
  },
  {
   "cell_type": "code",
   "execution_count": 5,
   "metadata": {
    "ExecuteTime": {
     "end_time": "2020-01-18T06:22:43.441131Z",
     "start_time": "2020-01-18T06:22:41.984036Z"
    }
   },
   "outputs": [
    {
     "name": "stdout",
     "output_type": "stream",
     "text": [
      "403 \n",
      "\n",
      "The Status code: 403, The input data is: 2C3HD46R62H103186;LS,35W,10CHB;4UZABRFC1JCJT6606;3GKGC26F7XG546060, The Chunk name is Chunk144\n",
      " Trying to split and run one by one.....\n",
      "VIN: 2C3HD46R62H103186, status: 200 \n",
      "\n",
      "Successfully get the VIN: 2C3HD46R62H103186 \n",
      "\n",
      "VIN: LS,35W,10CHB, status: 200 \n",
      "\n",
      "Successfully get the VIN: LS,35W,10CHB \n",
      "\n",
      "VIN: 4UZABRFC1JCJT6606, status: 200 \n",
      "\n",
      "Successfully get the VIN: 4UZABRFC1JCJT6606 \n",
      "\n",
      "VIN: 3GKGC26F7XG546060, status: 200 \n",
      "\n",
      "Successfully get the VIN: 3GKGC26F7XG546060 \n",
      "\n"
     ]
    },
    {
     "data": {
      "text/html": [
       "<div>\n",
       "<style scoped>\n",
       "    .dataframe tbody tr th:only-of-type {\n",
       "        vertical-align: middle;\n",
       "    }\n",
       "\n",
       "    .dataframe tbody tr th {\n",
       "        vertical-align: top;\n",
       "    }\n",
       "\n",
       "    .dataframe thead th {\n",
       "        text-align: right;\n",
       "    }\n",
       "</style>\n",
       "<table border=\"1\" class=\"dataframe\">\n",
       "  <thead>\n",
       "    <tr style=\"text-align: right;\">\n",
       "      <th></th>\n",
       "      <th>OriginalVIN</th>\n",
       "      <th>VIN</th>\n",
       "      <th>BodyClass</th>\n",
       "      <th>Make</th>\n",
       "      <th>Manufacturer</th>\n",
       "      <th>Model</th>\n",
       "      <th>ModelYear</th>\n",
       "      <th>Series</th>\n",
       "      <th>Trim</th>\n",
       "      <th>VehicleType</th>\n",
       "      <th>SuggestedVIN</th>\n",
       "      <th>ErrorText</th>\n",
       "    </tr>\n",
       "  </thead>\n",
       "  <tbody>\n",
       "    <tr>\n",
       "      <th>0</th>\n",
       "      <td>2C3HD46R62H103186</td>\n",
       "      <td>2C3HD46R62H103186</td>\n",
       "      <td>Sedan/Saloon</td>\n",
       "      <td>CHRYSLER</td>\n",
       "      <td>FCA CANADA INC.</td>\n",
       "      <td>Concorde</td>\n",
       "      <td>2002</td>\n",
       "      <td>LH</td>\n",
       "      <td>LX</td>\n",
       "      <td>PASSENGER CAR</td>\n",
       "      <td></td>\n",
       "      <td>0 - VIN decoded clean. Check Digit (9th positi...</td>\n",
       "    </tr>\n",
       "    <tr>\n",
       "      <th>0</th>\n",
       "      <td>2C3HD46R62H103186</td>\n",
       "      <td>LS</td>\n",
       "      <td></td>\n",
       "      <td></td>\n",
       "      <td></td>\n",
       "      <td></td>\n",
       "      <td></td>\n",
       "      <td></td>\n",
       "      <td></td>\n",
       "      <td></td>\n",
       "      <td></td>\n",
       "      <td>6 - Incomplete VIN; 7 - Manufacturer is not re...</td>\n",
       "    </tr>\n",
       "    <tr>\n",
       "      <th>0</th>\n",
       "      <td>2C3HD46R62H103186</td>\n",
       "      <td>4UZABRFC1JCJT6606</td>\n",
       "      <td>Incomplete - School Bus Chassis</td>\n",
       "      <td>FREIGHTLINER</td>\n",
       "      <td>FREIGHTLINER CUSTOM CHASSIS CORP.</td>\n",
       "      <td>B2 Bus Chassis</td>\n",
       "      <td>2018</td>\n",
       "      <td></td>\n",
       "      <td></td>\n",
       "      <td>INCOMPLETE VEHICLE</td>\n",
       "      <td></td>\n",
       "      <td>0 - VIN decoded clean. Check Digit (9th positi...</td>\n",
       "    </tr>\n",
       "    <tr>\n",
       "      <th>0</th>\n",
       "      <td>2C3HD46R62H103186</td>\n",
       "      <td>3GKGC26F7XG546060</td>\n",
       "      <td>Sport Utility Vehicle (SUV)/Multi-Purpose Vehi...</td>\n",
       "      <td>GMC</td>\n",
       "      <td>GENERAL MOTORS LLC</td>\n",
       "      <td>Suburban</td>\n",
       "      <td>1999</td>\n",
       "      <td>Conventional Cab, 2500 (3/4 ton)</td>\n",
       "      <td></td>\n",
       "      <td>MULTIPURPOSE PASSENGER VEHICLE (MPV)</td>\n",
       "      <td></td>\n",
       "      <td>0 - VIN decoded clean. Check Digit (9th positi...</td>\n",
       "    </tr>\n",
       "  </tbody>\n",
       "</table>\n",
       "</div>"
      ],
      "text/plain": [
       "         OriginalVIN                VIN  \\\n",
       "0  2C3HD46R62H103186  2C3HD46R62H103186   \n",
       "0  2C3HD46R62H103186                 LS   \n",
       "0  2C3HD46R62H103186  4UZABRFC1JCJT6606   \n",
       "0  2C3HD46R62H103186  3GKGC26F7XG546060   \n",
       "\n",
       "                                           BodyClass          Make  \\\n",
       "0                                       Sedan/Saloon      CHRYSLER   \n",
       "0                                                                    \n",
       "0                    Incomplete - School Bus Chassis  FREIGHTLINER   \n",
       "0  Sport Utility Vehicle (SUV)/Multi-Purpose Vehi...           GMC   \n",
       "\n",
       "                        Manufacturer            Model ModelYear  \\\n",
       "0                    FCA CANADA INC.         Concorde      2002   \n",
       "0                                                                 \n",
       "0  FREIGHTLINER CUSTOM CHASSIS CORP.  B2 Bus Chassis       2018   \n",
       "0                 GENERAL MOTORS LLC         Suburban      1999   \n",
       "\n",
       "                             Series Trim  \\\n",
       "0                                LH   LX   \n",
       "0                                          \n",
       "0                                          \n",
       "0  Conventional Cab, 2500 (3/4 ton)        \n",
       "\n",
       "                            VehicleType SuggestedVIN  \\\n",
       "0                         PASSENGER CAR                \n",
       "0                                                      \n",
       "0                    INCOMPLETE VEHICLE                \n",
       "0  MULTIPURPOSE PASSENGER VEHICLE (MPV)                \n",
       "\n",
       "                                           ErrorText  \n",
       "0  0 - VIN decoded clean. Check Digit (9th positi...  \n",
       "0  6 - Incomplete VIN; 7 - Manufacturer is not re...  \n",
       "0  0 - VIN decoded clean. Check Digit (9th positi...  \n",
       "0  0 - VIN decoded clean. Check Digit (9th positi...  "
      ]
     },
     "execution_count": 5,
     "metadata": {},
     "output_type": "execute_result"
    }
   ],
   "source": [
    "process_5.getValidation_table('Chunk144')"
   ]
  },
  {
   "cell_type": "code",
   "execution_count": null,
   "metadata": {
    "ExecuteTime": {
     "end_time": "2020-01-18T00:43:31.648646Z",
     "start_time": "2020-01-18T00:43:31.640668Z"
    }
   },
   "outputs": [],
   "source": [
    "Col_to_str(df_5,'VIN',';').count(';')"
   ]
  },
  {
   "cell_type": "code",
   "execution_count": null,
   "metadata": {
    "ExecuteTime": {
     "end_time": "2020-01-18T01:08:11.753652Z",
     "start_time": "2020-01-18T01:05:13.387549Z"
    },
    "scrolled": true
   },
   "outputs": [],
   "source": [
    "df_5 = df_2\n",
    "temp = pd.DataFrame()\n",
    "for i in range(Col_to_str(df_5,'VIN',';').count(';') // 1000 + 1):\n",
    "    print(f'|||||||||||||||||||||||||||||||||||||||||||||||||||||||||||||current range:{i*1000} ~ {(i+1)*1000}\\n\\n')\n",
    "    if (i + 1) * 1000 < Col_to_str(df_5,'VIN',';').count(';'):\n",
    "        print(i*1000,(i+1)*1000)\n",
    "        process_temp = ValidationProcess(Col_to_str(df_5[i*1000:(i+1)*1000],'VIN',';'),4)\n",
    "        result_temp = process_temp.getAll()\n",
    "        temp = pd.concat([temp,result_temp])\n",
    "    else:\n",
    "        print(i*1000 ,Col_to_str(df_5,'VIN',';').count(';'),'\\n')\n",
    "        process_temp = ValidationProcess(Col_to_str(df_5[i*1000:],'VIN',';'),4)\n",
    "        result_temp = process_temp.getAll()\n",
    "        temp = pd.concat([temp,result_temp])\n",
    "    \n",
    "\n",
    "temp\n",
    "# process_5 = ValidationProcess(data_5,4)\n",
    "# result_5 = process_5.getAll()\n",
    "\n",
    "\n",
    "\n",
    "\n",
    "\n",
    "# filename = 'result_5'\n",
    "# result_5.to_excel(rf'C:\\Users\\FFR0103\\Desktop\\My files\\WORK\\Auto part\\Secure Link\\Output\\{filename}.xlsx')"
   ]
  },
  {
   "cell_type": "code",
   "execution_count": null,
   "metadata": {
    "ExecuteTime": {
     "end_time": "2020-01-18T01:09:01.881431Z",
     "start_time": "2020-01-18T01:08:59.443804Z"
    }
   },
   "outputs": [],
   "source": [
    "temp.to_excel(rf'C:\\Users\\FFR0103\\Desktop\\My files\\WORK\\Auto part\\Secure Link\\Output\\result_2.xlsx')"
   ]
  },
  {
   "cell_type": "code",
   "execution_count": null,
   "metadata": {
    "ExecuteTime": {
     "end_time": "2020-01-17T22:59:40.049473Z",
     "start_time": "2020-01-17T22:59:39.982650Z"
    }
   },
   "outputs": [],
   "source": [
    "data_5"
   ]
  },
  {
   "cell_type": "code",
   "execution_count": null,
   "metadata": {
    "ExecuteTime": {
     "end_time": "2020-01-17T22:49:40.931375Z",
     "start_time": "2020-01-17T22:49:40.922397Z"
    }
   },
   "outputs": [],
   "source": [
    "process_5.split_to_Chunk(4)['Chunk12']"
   ]
  },
  {
   "cell_type": "code",
   "execution_count": null,
   "metadata": {
    "ExecuteTime": {
     "end_time": "2020-01-18T00:26:37.726354Z",
     "start_time": "2020-01-18T00:26:33.991325Z"
    }
   },
   "outputs": [],
   "source": [
    "import requests\n",
    "import json\n",
    "for i in range(6000):\n",
    "    url = \"https://vpic.nhtsa.dot.gov/api/vehicles/DecodeVINValuesBatch/\"\n",
    "    post_fields = {\n",
    "        \"format\": \"json\",\n",
    "        \"data\": process_5.split_to_Chunk(4)['Chunk144'],\n",
    "    }\n",
    "    r = requests.post(url, data=post_fields)\n",
    "    try:\n",
    "        result = json.loads(r.text)\n",
    "    except:\n",
    "        print('4', '\\n', r.text)\n",
    "    print(i,r.status_code)\n",
    "# df = pd.DataFrame(result[\"Results\"])[\n",
    "#     [\n",
    "#         \"VIN\",\n",
    "#         \"BodyClass\",\n",
    "#         \"Make\",\n",
    "#         \"Manufacturer\",\n",
    "#         \"Model\",\n",
    "#         \"ModelYear\",\n",
    "#         \"Series\",\n",
    "#         \"Trim\",\n",
    "#         \"VehicleType\",\n",
    "#         \"SuggestedVIN\",\n",
    "#         \"ErrorText\",\n",
    "#     ]\n",
    "# ]\n",
    "# df.insert(\n",
    "#     0,\n",
    "#     \"OriginalVIN\",\n",
    "#     pd.Series(self.split_to_Chunk(4)['Chunk12'].split(\";\")),\n",
    "# )\n",
    "\n",
    "\n",
    "# df = pd.DataFrame(r.text[\"Results\"])[\n",
    "#     [\n",
    "#         \"VIN\",\n",
    "#         \"BodyClass\",\n",
    "#         \"Make\",\n",
    "#         \"Manufacturer\",\n",
    "#         \"Model\",\n",
    "#         \"ModelYear\",\n",
    "#         \"Series\",\n",
    "#         \"Trim\",\n",
    "#         \"VehicleType\",\n",
    "#         \"SuggestedVIN\",\n",
    "#         \"ErrorText\",\n",
    "#     ]\n",
    "# ]\n",
    "# df"
   ]
  },
  {
   "cell_type": "code",
   "execution_count": 15,
   "metadata": {
    "ExecuteTime": {
     "end_time": "2020-01-18T07:06:59.806217Z",
     "start_time": "2020-01-18T07:06:59.791253Z"
    }
   },
   "outputs": [
    {
     "data": {
      "text/html": [
       "<div>\n",
       "<style scoped>\n",
       "    .dataframe tbody tr th:only-of-type {\n",
       "        vertical-align: middle;\n",
       "    }\n",
       "\n",
       "    .dataframe tbody tr th {\n",
       "        vertical-align: top;\n",
       "    }\n",
       "\n",
       "    .dataframe thead th {\n",
       "        text-align: right;\n",
       "    }\n",
       "</style>\n",
       "<table border=\"1\" class=\"dataframe\">\n",
       "  <thead>\n",
       "    <tr style=\"text-align: right;\">\n",
       "      <th></th>\n",
       "      <th>test</th>\n",
       "      <th>OriginalVIN</th>\n",
       "    </tr>\n",
       "  </thead>\n",
       "  <tbody>\n",
       "    <tr>\n",
       "      <th>0</th>\n",
       "      <td>hfdjkshfkd</td>\n",
       "      <td>LS,35W,10CHB</td>\n",
       "    </tr>\n",
       "    <tr>\n",
       "      <th>1</th>\n",
       "      <td>NaN</td>\n",
       "      <td>fjdklsfjds</td>\n",
       "    </tr>\n",
       "  </tbody>\n",
       "</table>\n",
       "</div>"
      ],
      "text/plain": [
       "         test   OriginalVIN\n",
       "0  hfdjkshfkd  LS,35W,10CHB\n",
       "1         NaN    fjdklsfjds"
      ]
     },
     "execution_count": 15,
     "metadata": {},
     "output_type": "execute_result"
    }
   ],
   "source": [
    "df = pd.DataFrame(['LS,35W,10CHB','fjdklsfjds'],columns=['OriginalVIN'])\n",
    "df.insert(0,'test',pd.Series('hfdjkshfkd'))\n",
    "df"
   ]
  },
  {
   "cell_type": "code",
   "execution_count": null,
   "metadata": {
    "ExecuteTime": {
     "end_time": "2020-01-18T05:54:12.744531Z",
     "start_time": "2020-01-18T05:53:32.166290Z"
    }
   },
   "outputs": [],
   "source": [
    "fd = process_temp.getValidation_table('Chunk3')"
   ]
  },
  {
   "cell_type": "code",
   "execution_count": null,
   "metadata": {
    "ExecuteTime": {
     "end_time": "2020-01-18T05:55:35.194405Z",
     "start_time": "2020-01-18T05:55:35.172434Z"
    }
   },
   "outputs": [],
   "source": [
    "pd.concat([fd,fd_1],sort = False)"
   ]
  }
 ],
 "metadata": {
  "kernelspec": {
   "display_name": "Python 3",
   "language": "python",
   "name": "python3"
  },
  "language_info": {
   "codemirror_mode": {
    "name": "ipython",
    "version": 3
   },
   "file_extension": ".py",
   "mimetype": "text/x-python",
   "name": "python",
   "nbconvert_exporter": "python",
   "pygments_lexer": "ipython3",
   "version": "3.7.3"
  }
 },
 "nbformat": 4,
 "nbformat_minor": 2
}
