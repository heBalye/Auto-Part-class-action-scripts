{
 "cells": [
  {
   "cell_type": "code",
   "execution_count": null,
   "metadata": {
    "ExecuteTime": {
     "end_time": "2020-01-24T16:34:30.832231Z",
     "start_time": "2020-01-24T16:34:28.507444Z"
    }
   },
   "outputs": [],
   "source": [
    "import requests\n",
    "import json\n",
    "import re\n",
    "from bs4 import BeautifulSoup\n",
    "import pandas as pd"
   ]
  },
  {
   "cell_type": "code",
   "execution_count": null,
   "metadata": {
    "ExecuteTime": {
     "end_time": "2020-01-24T16:35:00.561728Z",
     "start_time": "2020-01-24T16:35:00.555742Z"
    }
   },
   "outputs": [],
   "source": [
    "source_dir = r'C:\\Users\\FFR0103\\Desktop\\My files\\WORK\\Auto part\\Maxxforce action\\Consumers Energy Truck Vins\\Source Data\\\\'\n",
    "output_dir = r'C:\\Users\\FFR0103\\Desktop\\My files\\WORK\\Auto part\\Maxxforce action\\Consumers Energy Truck Vins\\Output\\\\'\n",
    "fileName = r'Consumer Energy Truck VINs.xlsx'"
   ]
  },
  {
   "cell_type": "code",
   "execution_count": null,
   "metadata": {
    "ExecuteTime": {
     "end_time": "2020-01-24T16:35:22.657062Z",
     "start_time": "2020-01-24T16:35:22.532395Z"
    },
    "scrolled": true
   },
   "outputs": [],
   "source": [
    "df = pd.read_excel(source_dir + fileName)\n",
    "df"
   ]
  },
  {
   "cell_type": "code",
   "execution_count": null,
   "metadata": {
    "ExecuteTime": {
     "end_time": "2020-01-24T16:35:37.656583Z",
     "start_time": "2020-01-24T16:35:37.641623Z"
    },
    "scrolled": true
   },
   "outputs": [],
   "source": [
    "df.iloc[:,4]"
   ]
  },
  {
   "cell_type": "markdown",
   "metadata": {},
   "source": [
    "# define VIN COLUMNS"
   ]
  },
  {
   "cell_type": "code",
   "execution_count": null,
   "metadata": {
    "ExecuteTime": {
     "end_time": "2020-01-24T16:38:59.928627Z",
     "start_time": "2020-01-24T16:38:59.924644Z"
    }
   },
   "outputs": [],
   "source": [
    "x = 4"
   ]
  },
  {
   "cell_type": "code",
   "execution_count": null,
   "metadata": {
    "ExecuteTime": {
     "end_time": "2020-01-24T16:35:44.850354Z",
     "start_time": "2020-01-24T16:35:44.837389Z"
    },
    "scrolled": true
   },
   "outputs": [],
   "source": [
    "responses = pd.Series(None, index=range(len(df)))\n",
    "responses"
   ]
  },
  {
   "cell_type": "code",
   "execution_count": null,
   "metadata": {
    "ExecuteTime": {
     "end_time": "2020-01-24T16:40:15.117433Z",
     "start_time": "2020-01-24T16:39:10.673678Z"
    },
    "scrolled": true
   },
   "outputs": [],
   "source": [
    "for i in range(len(df)):\n",
    "    VIN = df.iloc[i,x]\n",
    "    print(rf'{i+1}/{len(df)}','   ', VIN)\n",
    "    r = requests.post('https://secure.maxxforce11and13.com/en/VinLookup',{'VinNumber':VIN})\n",
    "    soup = BeautifulSoup(r.text,'lxml')\n",
    "    target = soup.find('form').find('div',class_ = 'alert alert-danger')\n",
    "    if target:\n",
    "        result= re.search(r'( {32})([\\w\\s]*\\.)',str(target))\n",
    "        responses[i] = result.group(2)\n",
    "    else:\n",
    "        target = soup.find('form').find('div',class_ = 'alert alert-success')\n",
    "        result= re.search(r'( {32})([\\w\\s]*\\.)',str(target))\n",
    "        responses[i] = result.group(2)\n",
    "responses"
   ]
  },
  {
   "cell_type": "code",
   "execution_count": null,
   "metadata": {
    "ExecuteTime": {
     "end_time": "2020-01-24T16:41:54.010714Z",
     "start_time": "2020-01-24T16:41:54.003734Z"
    }
   },
   "outputs": [],
   "source": [
    "df['Response'] = responses.values"
   ]
  },
  {
   "cell_type": "code",
   "execution_count": null,
   "metadata": {
    "ExecuteTime": {
     "end_time": "2020-01-24T16:41:56.412322Z",
     "start_time": "2020-01-24T16:41:56.373427Z"
    }
   },
   "outputs": [],
   "source": [
    "df"
   ]
  },
  {
   "cell_type": "code",
   "execution_count": null,
   "metadata": {
    "ExecuteTime": {
     "end_time": "2020-01-24T16:42:05.418829Z",
     "start_time": "2020-01-24T16:42:05.403869Z"
    }
   },
   "outputs": [],
   "source": [
    "df['Response'].value_counts()"
   ]
  },
  {
   "cell_type": "code",
   "execution_count": null,
   "metadata": {
    "ExecuteTime": {
     "end_time": "2020-01-24T16:42:15.066024Z",
     "start_time": "2020-01-24T16:42:15.059041Z"
    }
   },
   "outputs": [],
   "source": [
    "df.columns"
   ]
  },
  {
   "cell_type": "code",
   "execution_count": null,
   "metadata": {
    "ExecuteTime": {
     "end_time": "2020-01-24T16:42:22.560726Z",
     "start_time": "2020-01-24T16:42:22.373905Z"
    }
   },
   "outputs": [],
   "source": [
    "df.to_excel(output_dir + fileName.split('.')[0] + ' with response.xlsx',index = False)"
   ]
  }
 ],
 "metadata": {
  "kernelspec": {
   "display_name": "Python 3",
   "language": "python",
   "name": "python3"
  },
  "language_info": {
   "codemirror_mode": {
    "name": "ipython",
    "version": 3
   },
   "file_extension": ".py",
   "mimetype": "text/x-python",
   "name": "python",
   "nbconvert_exporter": "python",
   "pygments_lexer": "ipython3",
   "version": "3.7.3"
  }
 },
 "nbformat": 4,
 "nbformat_minor": 2
}
