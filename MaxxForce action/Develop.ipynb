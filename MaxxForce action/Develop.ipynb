{
 "cells": [
  {
   "cell_type": "code",
   "execution_count": 21,
   "metadata": {
    "ExecuteTime": {
     "end_time": "2020-01-16T05:59:18.746095Z",
     "start_time": "2020-01-16T05:59:18.433769Z"
    }
   },
   "outputs": [
    {
     "name": "stdout",
     "output_type": "stream",
     "text": [
      "<div class=\"alert alert-danger\" id=\"login-alert\" style=\"font-weight: bold;\">\n",
      "<button class=\"close\" data-dismiss=\"alert\" type=\"button\">×</button>\r\n",
      "                                The VIN you entered is not included in the Settlement as a Class Vehicle. Please contact the Settlement Administrator at 1-833-222-1176 or <a href=\"MailTo:info@maxxforce11and13.com\">info@maxxforce11and13.com</a> if you believe that your vehicle should be included in the Class. You may also review the Class definition  <a href=\"https://www.maxxforce11and13.com/faq#q-5\">here</a>.\r\n",
      "                            </div>\n"
     ]
    },
    {
     "data": {
      "text/plain": [
       "'The VIN you entered is not included in the Settlement as a Class Vehicle.'"
      ]
     },
     "execution_count": 21,
     "metadata": {},
     "output_type": "execute_result"
    }
   ],
   "source": [
    "import requests\n",
    "import json\n",
    "import re\n",
    "from bs4 import BeautifulSoup\n",
    "r = requests.post('https://secure.maxxforce11and13.com/en/VinLookup',{'VinNumber':'fjdkalfejvcm'})\n",
    "soup = BeautifulSoup(r.text,'lxml')\n",
    "target = soup.find('form').find('div',class_ = 'alert alert-danger')\n",
    "# print(r.text)\n",
    "print(str(target))\n",
    "# print(soup.find('form').find('div',class_ = 'alert alert-danger').text)\n",
    "\n",
    "result= re.search(r'( {32})([\\w\\s]*\\.)',str(target))\n",
    "result.group(2)"
   ]
  },
  {
   "cell_type": "code",
   "execution_count": 2,
   "metadata": {
    "ExecuteTime": {
     "end_time": "2020-01-16T05:35:39.631862Z",
     "start_time": "2020-01-16T05:35:39.620426Z"
    }
   },
   "outputs": [
    {
     "data": {
      "text/plain": [
       "<div class=\"alert alert-danger\" id=\"login-alert\" style=\"font-weight: bold;\">\n",
       "<button class=\"close\" data-dismiss=\"alert\" type=\"button\">×</button>\n",
       "                                The VIN you entered is not included in the Settlement as a Class Vehicle. Please contact the Settlement Administrator at 1-833-222-1176 or <a href=\"MailTo:info@maxxforce11and13.com\">info@maxxforce11and13.com</a> if you believe that your vehicle should be included in the Class. You may also review the Class definition  <a href=\"https://www.maxxforce11and13.com/faq#q-5\">here</a>.\n",
       "                            </div>"
      ]
     },
     "execution_count": 2,
     "metadata": {},
     "output_type": "execute_result"
    }
   ],
   "source": [
    "target"
   ]
  },
  {
   "cell_type": "code",
   "execution_count": 19,
   "metadata": {
    "ExecuteTime": {
     "end_time": "2020-01-16T05:57:32.320191Z",
     "start_time": "2020-01-16T05:57:32.315928Z"
    }
   },
   "outputs": [
    {
     "data": {
      "text/plain": [
       "'\\n×\\r\\nThe VIN you entered is not included in the Settlement as a Class Vehicle. Please contact the Settlement Administrator at 1-833-222-1176 or info@maxxforce11and13.com if you believe that your vehicle should be included in the Class. You may also review the Class definition  here.\\r\\n                            '"
      ]
     },
     "execution_count": 19,
     "metadata": {},
     "output_type": "execute_result"
    }
   ],
   "source": [
    "pattern = re.compile('( {32})([\\w\\s]*\\.)')\n",
    "pattern.sub(r'\\2',str(target.text))"
   ]
  }
 ],
 "metadata": {
  "kernelspec": {
   "display_name": "Python 3",
   "language": "python",
   "name": "python3"
  },
  "language_info": {
   "codemirror_mode": {
    "name": "ipython",
    "version": 3
   },
   "file_extension": ".py",
   "mimetype": "text/x-python",
   "name": "python",
   "nbconvert_exporter": "python",
   "pygments_lexer": "ipython3",
   "version": "3.8.0"
  }
 },
 "nbformat": 4,
 "nbformat_minor": 4
}
