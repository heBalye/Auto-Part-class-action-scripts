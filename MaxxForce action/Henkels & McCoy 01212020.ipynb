{
 "cells": [
  {
   "cell_type": "code",
   "execution_count": null,
   "metadata": {
    "ExecuteTime": {
     "end_time": "2020-01-21T22:32:48.436827Z",
     "start_time": "2020-01-21T22:32:46.348444Z"
    }
   },
   "outputs": [],
   "source": [
    "import requests\n",
    "import json\n",
    "import re\n",
    "from bs4 import BeautifulSoup\n",
    "import pandas as pd"
   ]
  },
  {
   "cell_type": "code",
   "execution_count": null,
   "metadata": {
    "ExecuteTime": {
     "end_time": "2020-01-21T22:42:31.388304Z",
     "start_time": "2020-01-21T22:42:31.384321Z"
    }
   },
   "outputs": [],
   "source": [
    "source_dir = r'C:\\Users\\FFR0103\\Desktop\\My files\\WORK\\Auto part\\Maxxforce action\\Henkels & McCoy Truck Data\\Source Data\\\\'\n",
    "output_dir = r'C:\\Users\\FFR0103\\Desktop\\My files\\WORK\\Auto part\\Maxxforce action\\Henkels & McCoy Truck Data\\Output\\\\'\n",
    "fileName = r'Henkels & McCoy combined active_sold files.xlsx'"
   ]
  },
  {
   "cell_type": "code",
   "execution_count": null,
   "metadata": {
    "ExecuteTime": {
     "end_time": "2020-01-21T22:42:01.694453Z",
     "start_time": "2020-01-21T22:42:01.590710Z"
    },
    "scrolled": true
   },
   "outputs": [],
   "source": [
    "df = pd.read_excel(source_dir + fileName,sheet_name='Sheet1')\n",
    "df"
   ]
  },
  {
   "cell_type": "code",
   "execution_count": null,
   "metadata": {
    "ExecuteTime": {
     "end_time": "2020-01-21T22:34:37.065050Z",
     "start_time": "2020-01-21T22:34:37.055075Z"
    },
    "scrolled": true
   },
   "outputs": [],
   "source": [
    "df.iloc[:,6]"
   ]
  },
  {
   "cell_type": "code",
   "execution_count": null,
   "metadata": {
    "ExecuteTime": {
     "end_time": "2020-01-21T22:36:02.406757Z",
     "start_time": "2020-01-21T22:36:02.396785Z"
    },
    "scrolled": true
   },
   "outputs": [],
   "source": [
    "responses = pd.Series(None, index=range(len(df)))\n",
    "responses"
   ]
  },
  {
   "cell_type": "code",
   "execution_count": null,
   "metadata": {
    "ExecuteTime": {
     "end_time": "2020-01-21T22:38:13.715477Z",
     "start_time": "2020-01-21T22:36:20.746358Z"
    },
    "scrolled": true
   },
   "outputs": [],
   "source": [
    "for i in range(len(df)):\n",
    "    print(i)\n",
    "    VIN = df.iloc[i,6]\n",
    "    r = requests.post('https://secure.maxxforce11and13.com/en/VinLookup',{'VinNumber':VIN})\n",
    "    soup = BeautifulSoup(r.text,'lxml')\n",
    "    target = soup.find('form').find('div',class_ = 'alert alert-danger')\n",
    "    if target:\n",
    "        result= re.search(r'( {32})([\\w\\s]*\\.)',str(target))\n",
    "        responses[i] = result.group(2)\n",
    "    else:\n",
    "        target = soup.find('form').find('div',class_ = 'alert alert-success')\n",
    "        result= re.search(r'( {32})([\\w\\s]*\\.)',str(target))\n",
    "        responses[i] = result.group(2)\n",
    "responses"
   ]
  },
  {
   "cell_type": "code",
   "execution_count": null,
   "metadata": {
    "ExecuteTime": {
     "end_time": "2020-01-21T22:47:00.361691Z",
     "start_time": "2020-01-21T22:47:00.355706Z"
    }
   },
   "outputs": [],
   "source": [
    "df['Response'] = responses.values"
   ]
  },
  {
   "cell_type": "code",
   "execution_count": null,
   "metadata": {
    "ExecuteTime": {
     "end_time": "2020-01-21T22:38:43.741045Z",
     "start_time": "2020-01-21T22:38:43.694197Z"
    }
   },
   "outputs": [],
   "source": [
    "df"
   ]
  },
  {
   "cell_type": "code",
   "execution_count": null,
   "metadata": {
    "ExecuteTime": {
     "end_time": "2020-01-21T22:38:55.521432Z",
     "start_time": "2020-01-21T22:38:55.508469Z"
    }
   },
   "outputs": [],
   "source": [
    "df['Response'].value_counts()"
   ]
  },
  {
   "cell_type": "code",
   "execution_count": null,
   "metadata": {
    "ExecuteTime": {
     "end_time": "2020-01-21T22:39:07.070004Z",
     "start_time": "2020-01-21T22:39:07.064022Z"
    }
   },
   "outputs": [],
   "source": [
    "df.columns"
   ]
  },
  {
   "cell_type": "code",
   "execution_count": null,
   "metadata": {
    "ExecuteTime": {
     "end_time": "2020-01-21T22:49:26.655958Z",
     "start_time": "2020-01-21T22:49:26.530552Z"
    }
   },
   "outputs": [],
   "source": [
    "df.to_excel(output_dir + fileName.split('.')[0] + ' with response.xlsx',index = False)"
   ]
  }
 ],
 "metadata": {
  "kernelspec": {
   "display_name": "Python 3",
   "language": "python",
   "name": "python3"
  },
  "language_info": {
   "codemirror_mode": {
    "name": "ipython",
    "version": 3
   },
   "file_extension": ".py",
   "mimetype": "text/x-python",
   "name": "python",
   "nbconvert_exporter": "python",
   "pygments_lexer": "ipython3",
   "version": "3.7.3"
  }
 },
 "nbformat": 4,
 "nbformat_minor": 2
}
