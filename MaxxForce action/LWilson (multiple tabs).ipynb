{
 "cells": [
  {
   "cell_type": "code",
   "execution_count": 7,
   "metadata": {
    "ExecuteTime": {
     "end_time": "2020-01-22T18:15:25.909320Z",
     "start_time": "2020-01-22T18:15:25.904333Z"
    }
   },
   "outputs": [],
   "source": [
    "import requests\n",
    "import json\n",
    "import re\n",
    "from bs4 import BeautifulSoup\n",
    "import pandas as pd"
   ]
  },
  {
   "cell_type": "code",
   "execution_count": 6,
   "metadata": {
    "ExecuteTime": {
     "end_time": "2020-01-22T18:15:24.371430Z",
     "start_time": "2020-01-22T18:15:24.366443Z"
    }
   },
   "outputs": [],
   "source": [
    "source_dir = r'C:\\Users\\FFR0103\\Desktop\\My files\\WORK\\Auto part\\Maxxforce action\\LWilson\\American Water\\Source Data\\\\'\n",
    "output_dir = r'C:\\Users\\FFR0103\\Desktop\\My files\\WORK\\Auto part\\Maxxforce action\\LWilson\\American Water\\Output\\\\'\n",
    "fileName = r'Team LWilson INT Truck VIN Validation.xlsx'\n",
    "ClientName = r'American Water'"
   ]
  },
  {
   "cell_type": "code",
   "execution_count": 9,
   "metadata": {
    "ExecuteTime": {
     "end_time": "2020-01-22T18:15:54.460198Z",
     "start_time": "2020-01-22T18:15:54.156012Z"
    },
    "scrolled": true
   },
   "outputs": [
    {
     "name": "stdout",
     "output_type": "stream",
     "text": [
      "<class 'pandas.core.frame.DataFrame'>\n",
      "RangeIndex: 29 entries, 0 to 28\n",
      "Data columns (total 5 columns):\n",
      "Client                29 non-null object\n",
      "Manufacturer          29 non-null object\n",
      "Model/ Engine Type    29 non-null object\n",
      "VIN                   29 non-null object\n",
      "Year                  29 non-null int64\n",
      "dtypes: int64(1), object(4)\n",
      "memory usage: 1.2+ KB\n"
     ]
    },
    {
     "data": {
      "text/plain": [
       "None"
      ]
     },
     "metadata": {},
     "output_type": "display_data"
    },
    {
     "data": {
      "text/html": [
       "<div>\n",
       "<style scoped>\n",
       "    .dataframe tbody tr th:only-of-type {\n",
       "        vertical-align: middle;\n",
       "    }\n",
       "\n",
       "    .dataframe tbody tr th {\n",
       "        vertical-align: top;\n",
       "    }\n",
       "\n",
       "    .dataframe thead th {\n",
       "        text-align: right;\n",
       "    }\n",
       "</style>\n",
       "<table border=\"1\" class=\"dataframe\">\n",
       "  <thead>\n",
       "    <tr style=\"text-align: right;\">\n",
       "      <th></th>\n",
       "      <th>Client</th>\n",
       "      <th>Manufacturer</th>\n",
       "      <th>Model/ Engine Type</th>\n",
       "      <th>VIN</th>\n",
       "      <th>Year</th>\n",
       "    </tr>\n",
       "  </thead>\n",
       "  <tbody>\n",
       "    <tr>\n",
       "      <th>0</th>\n",
       "      <td>American Water</td>\n",
       "      <td>IHC</td>\n",
       "      <td>*</td>\n",
       "      <td>1HTMMAAP6DH335846</td>\n",
       "      <td>2013</td>\n",
       "    </tr>\n",
       "    <tr>\n",
       "      <th>1</th>\n",
       "      <td>American Water</td>\n",
       "      <td>IHC</td>\n",
       "      <td>*</td>\n",
       "      <td>1HTWGAAT1CJ051089</td>\n",
       "      <td>2012</td>\n",
       "    </tr>\n",
       "    <tr>\n",
       "      <th>2</th>\n",
       "      <td>American Water</td>\n",
       "      <td>IHC</td>\n",
       "      <td>*</td>\n",
       "      <td>1HTMMAAN6DH303655</td>\n",
       "      <td>2013</td>\n",
       "    </tr>\n",
       "    <tr>\n",
       "      <th>3</th>\n",
       "      <td>American Water</td>\n",
       "      <td>IHC</td>\n",
       "      <td>*</td>\n",
       "      <td>1HTMMAAL3DH147069</td>\n",
       "      <td>2013</td>\n",
       "    </tr>\n",
       "    <tr>\n",
       "      <th>4</th>\n",
       "      <td>American Water</td>\n",
       "      <td>IHC</td>\n",
       "      <td>*</td>\n",
       "      <td>1HTWGAATXCJ059997</td>\n",
       "      <td>2012</td>\n",
       "    </tr>\n",
       "    <tr>\n",
       "      <th>5</th>\n",
       "      <td>American Water</td>\n",
       "      <td>IHC</td>\n",
       "      <td>*</td>\n",
       "      <td>3HAMMAAM8DL218074</td>\n",
       "      <td>2013</td>\n",
       "    </tr>\n",
       "    <tr>\n",
       "      <th>6</th>\n",
       "      <td>American Water</td>\n",
       "      <td>IHC</td>\n",
       "      <td>*</td>\n",
       "      <td>1HTMMAAL1BH392420</td>\n",
       "      <td>2011</td>\n",
       "    </tr>\n",
       "    <tr>\n",
       "      <th>7</th>\n",
       "      <td>American Water</td>\n",
       "      <td>IHC</td>\n",
       "      <td>*</td>\n",
       "      <td>3HAMYSKM4BL390771</td>\n",
       "      <td>2011</td>\n",
       "    </tr>\n",
       "    <tr>\n",
       "      <th>8</th>\n",
       "      <td>American Water</td>\n",
       "      <td>IHC</td>\n",
       "      <td>G</td>\n",
       "      <td>3HAMYSKMXBL390774</td>\n",
       "      <td>2011</td>\n",
       "    </tr>\n",
       "    <tr>\n",
       "      <th>9</th>\n",
       "      <td>American Water</td>\n",
       "      <td>IHC</td>\n",
       "      <td>*</td>\n",
       "      <td>3HAMYSKM6BL390772</td>\n",
       "      <td>2011</td>\n",
       "    </tr>\n",
       "    <tr>\n",
       "      <th>10</th>\n",
       "      <td>American Water</td>\n",
       "      <td>IHC</td>\n",
       "      <td>G</td>\n",
       "      <td>3HAMYSKM5BL390780</td>\n",
       "      <td>2011</td>\n",
       "    </tr>\n",
       "    <tr>\n",
       "      <th>11</th>\n",
       "      <td>American Water</td>\n",
       "      <td>IHC</td>\n",
       "      <td>*</td>\n",
       "      <td>3HAMYSKM8BL390773</td>\n",
       "      <td>2011</td>\n",
       "    </tr>\n",
       "    <tr>\n",
       "      <th>12</th>\n",
       "      <td>American Water</td>\n",
       "      <td>IHC</td>\n",
       "      <td>*</td>\n",
       "      <td>3HAMYSKM9BL390779</td>\n",
       "      <td>2011</td>\n",
       "    </tr>\n",
       "    <tr>\n",
       "      <th>13</th>\n",
       "      <td>American Water</td>\n",
       "      <td>IHC</td>\n",
       "      <td>*</td>\n",
       "      <td>3HAMYSKM2BL392230</td>\n",
       "      <td>2011</td>\n",
       "    </tr>\n",
       "    <tr>\n",
       "      <th>14</th>\n",
       "      <td>American Water</td>\n",
       "      <td>IHC</td>\n",
       "      <td>*</td>\n",
       "      <td>3HAJTSKLXCL052656</td>\n",
       "      <td>2012</td>\n",
       "    </tr>\n",
       "    <tr>\n",
       "      <th>15</th>\n",
       "      <td>American Water</td>\n",
       "      <td>IHC</td>\n",
       "      <td>G</td>\n",
       "      <td>1HTMYSKL2CH620659</td>\n",
       "      <td>2012</td>\n",
       "    </tr>\n",
       "    <tr>\n",
       "      <th>16</th>\n",
       "      <td>American Water</td>\n",
       "      <td>IHC</td>\n",
       "      <td>G</td>\n",
       "      <td>1HTMYSKL9CH620660</td>\n",
       "      <td>2012</td>\n",
       "    </tr>\n",
       "    <tr>\n",
       "      <th>17</th>\n",
       "      <td>American Water</td>\n",
       "      <td>IHC</td>\n",
       "      <td>*</td>\n",
       "      <td>1HTMMAAL7DH333732</td>\n",
       "      <td>2013</td>\n",
       "    </tr>\n",
       "    <tr>\n",
       "      <th>18</th>\n",
       "      <td>American Water</td>\n",
       "      <td>IHC</td>\n",
       "      <td>*</td>\n",
       "      <td>1HTMMAAL9DH333733</td>\n",
       "      <td>2013</td>\n",
       "    </tr>\n",
       "    <tr>\n",
       "      <th>19</th>\n",
       "      <td>American Water</td>\n",
       "      <td>IHC</td>\n",
       "      <td>*</td>\n",
       "      <td>1HTMMAAL0DH333734</td>\n",
       "      <td>2013</td>\n",
       "    </tr>\n",
       "    <tr>\n",
       "      <th>20</th>\n",
       "      <td>American Water</td>\n",
       "      <td>IHC</td>\n",
       "      <td>*</td>\n",
       "      <td>1HTMMAAL5DH333731</td>\n",
       "      <td>2013</td>\n",
       "    </tr>\n",
       "    <tr>\n",
       "      <th>21</th>\n",
       "      <td>American Water</td>\n",
       "      <td>IHC</td>\n",
       "      <td>G</td>\n",
       "      <td>1HTJTSKL3CH621904</td>\n",
       "      <td>2012</td>\n",
       "    </tr>\n",
       "    <tr>\n",
       "      <th>22</th>\n",
       "      <td>American Water</td>\n",
       "      <td>IHC</td>\n",
       "      <td>G</td>\n",
       "      <td>1HTMYSKL0CH620661</td>\n",
       "      <td>2012</td>\n",
       "    </tr>\n",
       "    <tr>\n",
       "      <th>23</th>\n",
       "      <td>American Water</td>\n",
       "      <td>IHC</td>\n",
       "      <td>G</td>\n",
       "      <td>1HTMYSKL2CH620662</td>\n",
       "      <td>2012</td>\n",
       "    </tr>\n",
       "    <tr>\n",
       "      <th>24</th>\n",
       "      <td>American Water</td>\n",
       "      <td>IHC</td>\n",
       "      <td>G</td>\n",
       "      <td>1HTMYSKL4CH620663</td>\n",
       "      <td>2012</td>\n",
       "    </tr>\n",
       "    <tr>\n",
       "      <th>25</th>\n",
       "      <td>American Water</td>\n",
       "      <td>IHC</td>\n",
       "      <td>G</td>\n",
       "      <td>1HTMYSKL6CH620664</td>\n",
       "      <td>2012</td>\n",
       "    </tr>\n",
       "    <tr>\n",
       "      <th>26</th>\n",
       "      <td>American Water</td>\n",
       "      <td>IHC</td>\n",
       "      <td>G</td>\n",
       "      <td>1HTMYSKL8CH620665</td>\n",
       "      <td>2012</td>\n",
       "    </tr>\n",
       "    <tr>\n",
       "      <th>27</th>\n",
       "      <td>American Water</td>\n",
       "      <td>IHC</td>\n",
       "      <td>G</td>\n",
       "      <td>1HTMYSKLXCH620666</td>\n",
       "      <td>2012</td>\n",
       "    </tr>\n",
       "    <tr>\n",
       "      <th>28</th>\n",
       "      <td>American Water</td>\n",
       "      <td>IHC</td>\n",
       "      <td>G</td>\n",
       "      <td>1HTMYSKL1CH620667</td>\n",
       "      <td>2012</td>\n",
       "    </tr>\n",
       "  </tbody>\n",
       "</table>\n",
       "</div>"
      ],
      "text/plain": [
       "            Client Manufacturer Model/ Engine Type                VIN  Year\n",
       "0   American Water   IHC                         *  1HTMMAAP6DH335846  2013\n",
       "1   American Water   IHC                         *  1HTWGAAT1CJ051089  2012\n",
       "2   American Water   IHC                         *  1HTMMAAN6DH303655  2013\n",
       "3   American Water   IHC                         *  1HTMMAAL3DH147069  2013\n",
       "4   American Water   IHC                         *  1HTWGAATXCJ059997  2012\n",
       "5   American Water   IHC                         *  3HAMMAAM8DL218074  2013\n",
       "6   American Water   IHC                         *  1HTMMAAL1BH392420  2011\n",
       "7   American Water   IHC                         *  3HAMYSKM4BL390771  2011\n",
       "8   American Water   IHC                         G  3HAMYSKMXBL390774  2011\n",
       "9   American Water   IHC                         *  3HAMYSKM6BL390772  2011\n",
       "10  American Water   IHC                         G  3HAMYSKM5BL390780  2011\n",
       "11  American Water   IHC                         *  3HAMYSKM8BL390773  2011\n",
       "12  American Water   IHC                         *  3HAMYSKM9BL390779  2011\n",
       "13  American Water   IHC                         *  3HAMYSKM2BL392230  2011\n",
       "14  American Water   IHC                         *  3HAJTSKLXCL052656  2012\n",
       "15  American Water   IHC                         G  1HTMYSKL2CH620659  2012\n",
       "16  American Water   IHC                         G  1HTMYSKL9CH620660  2012\n",
       "17  American Water   IHC                         *  1HTMMAAL7DH333732  2013\n",
       "18  American Water   IHC                         *  1HTMMAAL9DH333733  2013\n",
       "19  American Water   IHC                         *  1HTMMAAL0DH333734  2013\n",
       "20  American Water   IHC                         *  1HTMMAAL5DH333731  2013\n",
       "21  American Water   IHC                         G  1HTJTSKL3CH621904  2012\n",
       "22  American Water   IHC                         G  1HTMYSKL0CH620661  2012\n",
       "23  American Water   IHC                         G  1HTMYSKL2CH620662  2012\n",
       "24  American Water   IHC                         G  1HTMYSKL4CH620663  2012\n",
       "25  American Water   IHC                         G  1HTMYSKL6CH620664  2012\n",
       "26  American Water   IHC                         G  1HTMYSKL8CH620665  2012\n",
       "27  American Water   IHC                         G  1HTMYSKLXCH620666  2012\n",
       "28  American Water   IHC                         G  1HTMYSKL1CH620667  2012"
      ]
     },
     "execution_count": 9,
     "metadata": {},
     "output_type": "execute_result"
    }
   ],
   "source": [
    "df = pd.read_excel(source_dir + fileName,sheet_name=ClientName)\n",
    "display(df.info())\n",
    "df\n"
   ]
  },
  {
   "cell_type": "code",
   "execution_count": 5,
   "metadata": {
    "ExecuteTime": {
     "end_time": "2020-01-22T17:31:18.399278Z",
     "start_time": "2020-01-22T17:31:18.380335Z"
    }
   },
   "outputs": [
    {
     "name": "stdout",
     "output_type": "stream",
     "text": [
      "American Water\n",
      "BNSF\n",
      "Estes Express\n",
      "Ferrellgas\n",
      "Kenan Advant. Group\n",
      "Performance Food Group\n",
      "Shred-It\n",
      "Stan Koch Trucking\n",
      "Werner Ent.\n"
     ]
    }
   ],
   "source": [
    "for sheetname in df:\n",
    "    print(sheetname)"
   ]
  },
  {
   "cell_type": "markdown",
   "metadata": {},
   "source": [
    "## American Water"
   ]
  },
  {
   "cell_type": "code",
   "execution_count": null,
   "metadata": {
    "ExecuteTime": {
     "end_time": "2020-01-21T22:55:57.030972Z",
     "start_time": "2020-01-21T22:55:57.020994Z"
    },
    "scrolled": true
   },
   "outputs": [],
   "source": [
    "df.iloc[:,3]"
   ]
  },
  {
   "cell_type": "code",
   "execution_count": null,
   "metadata": {
    "ExecuteTime": {
     "end_time": "2020-01-21T22:56:14.518411Z",
     "start_time": "2020-01-21T22:56:14.507441Z"
    },
    "scrolled": true
   },
   "outputs": [],
   "source": [
    "responses = pd.Series(None, index=range(len(df)))\n",
    "responses"
   ]
  },
  {
   "cell_type": "code",
   "execution_count": null,
   "metadata": {
    "ExecuteTime": {
     "end_time": "2020-01-21T22:58:31.819209Z",
     "start_time": "2020-01-21T22:56:28.442453Z"
    },
    "scrolled": true
   },
   "outputs": [],
   "source": [
    "for i in range(len(df)):\n",
    "    print(i)\n",
    "    VIN = df.iloc[i,3]\n",
    "    r = requests.post('https://secure.maxxforce11and13.com/en/VinLookup',{'VinNumber':VIN})\n",
    "    soup = BeautifulSoup(r.text,'lxml')\n",
    "    target = soup.find('form').find('div',class_ = 'alert alert-danger')\n",
    "    if target:\n",
    "        result= re.search(r'( {32})([\\w\\s]*\\.)',str(target))\n",
    "        responses[i] = result.group(2)\n",
    "    else:\n",
    "        target = soup.find('form').find('div',class_ = 'alert alert-success')\n",
    "        result= re.search(r'( {32})([\\w\\s]*\\.)',str(target))\n",
    "        responses[i] = result.group(2)\n",
    "responses"
   ]
  },
  {
   "cell_type": "code",
   "execution_count": null,
   "metadata": {
    "ExecuteTime": {
     "end_time": "2020-01-21T22:59:22.281655Z",
     "start_time": "2020-01-21T22:59:22.275668Z"
    }
   },
   "outputs": [],
   "source": [
    "df['Response'] = responses.values"
   ]
  },
  {
   "cell_type": "code",
   "execution_count": null,
   "metadata": {
    "ExecuteTime": {
     "end_time": "2020-01-21T22:59:25.066841Z",
     "start_time": "2020-01-21T22:59:25.040912Z"
    }
   },
   "outputs": [],
   "source": [
    "df"
   ]
  },
  {
   "cell_type": "code",
   "execution_count": null,
   "metadata": {
    "ExecuteTime": {
     "end_time": "2020-01-21T22:59:31.912221Z",
     "start_time": "2020-01-21T22:59:31.903211Z"
    }
   },
   "outputs": [],
   "source": [
    "df['Response'].value_counts()"
   ]
  },
  {
   "cell_type": "code",
   "execution_count": null,
   "metadata": {
    "ExecuteTime": {
     "end_time": "2020-01-21T22:39:07.070004Z",
     "start_time": "2020-01-21T22:39:07.064022Z"
    }
   },
   "outputs": [],
   "source": [
    "df.columns"
   ]
  },
  {
   "cell_type": "code",
   "execution_count": null,
   "metadata": {
    "ExecuteTime": {
     "end_time": "2020-01-21T22:59:42.363735Z",
     "start_time": "2020-01-21T22:59:42.231222Z"
    }
   },
   "outputs": [],
   "source": [
    "df.to_excel(output_dir + fileName.split('.')[0] + ' with response.xlsx',index = False)"
   ]
  },
  {
   "cell_type": "markdown",
   "metadata": {},
   "source": [
    "## BNSF"
   ]
  },
  {
   "cell_type": "code",
   "execution_count": null,
   "metadata": {
    "ExecuteTime": {
     "end_time": "2020-01-21T22:55:57.030972Z",
     "start_time": "2020-01-21T22:55:57.020994Z"
    },
    "scrolled": true
   },
   "outputs": [],
   "source": [
    "df.iloc[:,3]"
   ]
  },
  {
   "cell_type": "code",
   "execution_count": null,
   "metadata": {
    "ExecuteTime": {
     "end_time": "2020-01-21T22:56:14.518411Z",
     "start_time": "2020-01-21T22:56:14.507441Z"
    },
    "scrolled": true
   },
   "outputs": [],
   "source": [
    "responses = pd.Series(None, index=range(len(df)))\n",
    "responses"
   ]
  },
  {
   "cell_type": "code",
   "execution_count": null,
   "metadata": {
    "ExecuteTime": {
     "end_time": "2020-01-21T22:58:31.819209Z",
     "start_time": "2020-01-21T22:56:28.442453Z"
    },
    "scrolled": true
   },
   "outputs": [],
   "source": [
    "for i in range(len(df)):\n",
    "    print(i)\n",
    "    VIN = df.iloc[i,3]\n",
    "    r = requests.post('https://secure.maxxforce11and13.com/en/VinLookup',{'VinNumber':VIN})\n",
    "    soup = BeautifulSoup(r.text,'lxml')\n",
    "    target = soup.find('form').find('div',class_ = 'alert alert-danger')\n",
    "    if target:\n",
    "        result= re.search(r'( {32})([\\w\\s]*\\.)',str(target))\n",
    "        responses[i] = result.group(2)\n",
    "    else:\n",
    "        target = soup.find('form').find('div',class_ = 'alert alert-success')\n",
    "        result= re.search(r'( {32})([\\w\\s]*\\.)',str(target))\n",
    "        responses[i] = result.group(2)\n",
    "responses"
   ]
  },
  {
   "cell_type": "code",
   "execution_count": null,
   "metadata": {
    "ExecuteTime": {
     "end_time": "2020-01-21T22:59:22.281655Z",
     "start_time": "2020-01-21T22:59:22.275668Z"
    }
   },
   "outputs": [],
   "source": [
    "df['Response'] = responses.values"
   ]
  },
  {
   "cell_type": "code",
   "execution_count": null,
   "metadata": {
    "ExecuteTime": {
     "end_time": "2020-01-21T22:59:25.066841Z",
     "start_time": "2020-01-21T22:59:25.040912Z"
    }
   },
   "outputs": [],
   "source": [
    "df"
   ]
  },
  {
   "cell_type": "code",
   "execution_count": null,
   "metadata": {
    "ExecuteTime": {
     "end_time": "2020-01-21T22:59:31.912221Z",
     "start_time": "2020-01-21T22:59:31.903211Z"
    }
   },
   "outputs": [],
   "source": [
    "df['Response'].value_counts()"
   ]
  },
  {
   "cell_type": "code",
   "execution_count": null,
   "metadata": {
    "ExecuteTime": {
     "end_time": "2020-01-21T22:39:07.070004Z",
     "start_time": "2020-01-21T22:39:07.064022Z"
    }
   },
   "outputs": [],
   "source": [
    "df.columns"
   ]
  },
  {
   "cell_type": "code",
   "execution_count": null,
   "metadata": {
    "ExecuteTime": {
     "end_time": "2020-01-21T22:59:42.363735Z",
     "start_time": "2020-01-21T22:59:42.231222Z"
    }
   },
   "outputs": [],
   "source": [
    "df.to_excel(output_dir + fileName.split('.')[0] + ' with response.xlsx',index = False)"
   ]
  }
 ],
 "metadata": {
  "kernelspec": {
   "display_name": "Python 3",
   "language": "python",
   "name": "python3"
  },
  "language_info": {
   "codemirror_mode": {
    "name": "ipython",
    "version": 3
   },
   "file_extension": ".py",
   "mimetype": "text/x-python",
   "name": "python",
   "nbconvert_exporter": "python",
   "pygments_lexer": "ipython3",
   "version": "3.7.3"
  }
 },
 "nbformat": 4,
 "nbformat_minor": 2
}
