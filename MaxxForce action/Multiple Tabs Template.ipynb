{
 "cells": [
  {
   "cell_type": "code",
   "execution_count": null,
   "metadata": {
    "ExecuteTime": {
     "end_time": "2020-01-22T18:15:25.909320Z",
     "start_time": "2020-01-22T18:15:25.904333Z"
    }
   },
   "outputs": [],
   "source": [
    "import requests\n",
    "import json\n",
    "import re\n",
    "from bs4 import BeautifulSoup\n",
    "import pandas as pd"
   ]
  },
  {
   "cell_type": "code",
   "execution_count": null,
   "metadata": {
    "ExecuteTime": {
     "end_time": "2020-01-22T18:15:24.371430Z",
     "start_time": "2020-01-22T18:15:24.366443Z"
    }
   },
   "outputs": [],
   "source": [
    "source_dir = r'C:\\Users\\FFR0103\\Desktop\\My files\\WORK\\Auto part\\Maxxforce action\\LWilson\\American Water\\Source Data\\\\'\n",
    "output_dir = r'C:\\Users\\FFR0103\\Desktop\\My files\\WORK\\Auto part\\Maxxforce action\\LWilson\\American Water\\Output\\\\'\n",
    "fileName = r'Team LWilson INT Truck VIN Validation.xlsx'\n",
    "ClientName = r'American Water'"
   ]
  },
  {
   "cell_type": "code",
   "execution_count": null,
   "metadata": {
    "ExecuteTime": {
     "end_time": "2020-01-22T18:15:54.460198Z",
     "start_time": "2020-01-22T18:15:54.156012Z"
    },
    "scrolled": true
   },
   "outputs": [],
   "source": [
    "df = pd.read_excel(source_dir + fileName,sheet_name=ClientName)\n",
    "display(df.info())\n",
    "df\n"
   ]
  },
  {
   "cell_type": "code",
   "execution_count": null,
   "metadata": {
    "ExecuteTime": {
     "end_time": "2020-01-22T17:31:18.399278Z",
     "start_time": "2020-01-22T17:31:18.380335Z"
    }
   },
   "outputs": [],
   "source": [
    "for sheetname in df:\n",
    "    print(sheetname)"
   ]
  },
  {
   "cell_type": "code",
   "execution_count": null,
   "metadata": {
    "ExecuteTime": {
     "end_time": "2020-01-21T22:55:57.030972Z",
     "start_time": "2020-01-21T22:55:57.020994Z"
    },
    "scrolled": true
   },
   "outputs": [],
   "source": [
    "df.iloc[:,3]"
   ]
  },
  {
   "cell_type": "markdown",
   "metadata": {},
   "source": [
    "# define VIN COLUMNS"
   ]
  },
  {
   "cell_type": "code",
   "execution_count": null,
   "metadata": {},
   "outputs": [],
   "source": [
    "x = 4"
   ]
  },
  {
   "cell_type": "code",
   "execution_count": null,
   "metadata": {
    "ExecuteTime": {
     "end_time": "2020-01-21T22:56:14.518411Z",
     "start_time": "2020-01-21T22:56:14.507441Z"
    },
    "scrolled": true
   },
   "outputs": [],
   "source": [
    "responses = pd.Series(None, index=range(len(df)))\n",
    "responses"
   ]
  },
  {
   "cell_type": "code",
   "execution_count": null,
   "metadata": {
    "ExecuteTime": {
     "end_time": "2020-01-21T22:58:31.819209Z",
     "start_time": "2020-01-21T22:56:28.442453Z"
    },
    "scrolled": true
   },
   "outputs": [],
   "source": [
    "for i in range(len(df)):\n",
    "    print(i)\n",
    "    VIN = df.iloc[i,x]\n",
    "    r = requests.post('https://secure.maxxforce11and13.com/en/VinLookup',{'VinNumber':VIN})\n",
    "    soup = BeautifulSoup(r.text,'lxml')\n",
    "    target = soup.find('form').find('div',class_ = 'alert alert-danger')\n",
    "    if target:\n",
    "        result= re.search(r'( {32})([\\w\\s]*\\.)',str(target))\n",
    "        responses[i] = result.group(2)\n",
    "    else:\n",
    "        target = soup.find('form').find('div',class_ = 'alert alert-success')\n",
    "        result= re.search(r'( {32})([\\w\\s]*\\.)',str(target))\n",
    "        responses[i] = result.group(2)\n",
    "responses"
   ]
  },
  {
   "cell_type": "code",
   "execution_count": null,
   "metadata": {
    "ExecuteTime": {
     "end_time": "2020-01-21T22:59:22.281655Z",
     "start_time": "2020-01-21T22:59:22.275668Z"
    }
   },
   "outputs": [],
   "source": [
    "df['Response'] = responses.values"
   ]
  },
  {
   "cell_type": "code",
   "execution_count": null,
   "metadata": {
    "ExecuteTime": {
     "end_time": "2020-01-21T22:59:25.066841Z",
     "start_time": "2020-01-21T22:59:25.040912Z"
    }
   },
   "outputs": [],
   "source": [
    "df"
   ]
  },
  {
   "cell_type": "code",
   "execution_count": null,
   "metadata": {
    "ExecuteTime": {
     "end_time": "2020-01-21T22:59:31.912221Z",
     "start_time": "2020-01-21T22:59:31.903211Z"
    }
   },
   "outputs": [],
   "source": [
    "df['Response'].value_counts()"
   ]
  },
  {
   "cell_type": "code",
   "execution_count": null,
   "metadata": {
    "ExecuteTime": {
     "end_time": "2020-01-21T22:39:07.070004Z",
     "start_time": "2020-01-21T22:39:07.064022Z"
    }
   },
   "outputs": [],
   "source": [
    "df.columns"
   ]
  },
  {
   "cell_type": "code",
   "execution_count": null,
   "metadata": {
    "ExecuteTime": {
     "end_time": "2020-01-21T22:59:42.363735Z",
     "start_time": "2020-01-21T22:59:42.231222Z"
    }
   },
   "outputs": [],
   "source": [
    "df.to_excel(output_dir + 'LWilson_' + ClientName + ' with response.xlsx',index = False)"
   ]
  }
 ],
 "metadata": {
  "kernelspec": {
   "display_name": "Python 3",
   "language": "python",
   "name": "python3"
  },
  "language_info": {
   "codemirror_mode": {
    "name": "ipython",
    "version": 3
   },
   "file_extension": ".py",
   "mimetype": "text/x-python",
   "name": "python",
   "nbconvert_exporter": "python",
   "pygments_lexer": "ipython3",
   "version": "3.7.3"
  }
 },
 "nbformat": 4,
 "nbformat_minor": 2
}
