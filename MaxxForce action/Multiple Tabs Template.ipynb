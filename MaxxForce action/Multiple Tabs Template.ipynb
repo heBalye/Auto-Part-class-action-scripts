{
 "cells": [
  {
   "cell_type": "code",
   "execution_count": null,
   "metadata": {
    "ExecuteTime": {
     "end_time": "2020-02-04T21:44:59.774884Z",
     "start_time": "2020-02-04T21:44:58.031478Z"
    }
   },
   "outputs": [],
   "source": [
    "import requests\n",
    "import json\n",
    "import re\n",
    "from bs4 import BeautifulSoup\n",
    "import pandas as pd"
   ]
  },
  {
   "cell_type": "code",
   "execution_count": null,
   "metadata": {
    "ExecuteTime": {
     "end_time": "2020-01-24T21:05:01.839481Z",
     "start_time": "2020-01-24T21:05:01.834495Z"
    }
   },
   "outputs": [],
   "source": [
    "source_dir = r'C:\\Users\\FFR0103\\Desktop\\My files\\WORK\\Auto part\\Maxxforce action\\MaxxForce Truck Vins - 01242020\\KC Southern Truck VINs\\Source Data\\\\'\n",
    "output_dir = r'C:\\Users\\FFR0103\\Desktop\\My files\\WORK\\Auto part\\Maxxforce action\\MaxxForce Truck Vins - 01242020\\KC Southern Truck VINs\\Output\\\\'\n",
    "fileName = r'KC Southern Truck VINs.xlsx'\n"
   ]
  },
  {
   "cell_type": "code",
   "execution_count": null,
   "metadata": {
    "ExecuteTime": {
     "end_time": "2020-01-24T21:04:48.436045Z",
     "start_time": "2020-01-24T21:04:48.358228Z"
    }
   },
   "outputs": [],
   "source": [
    "DF = pd.read_excel(source_dir + fileName,sheet_name=None, dtype=str)"
   ]
  },
  {
   "cell_type": "code",
   "execution_count": null,
   "metadata": {
    "ExecuteTime": {
     "end_time": "2020-01-24T21:04:50.617008Z",
     "start_time": "2020-01-24T21:04:50.576121Z"
    }
   },
   "outputs": [],
   "source": [
    "for i, sheetname in enumerate(DF):\n",
    "    print(i, ' ', sheetname)"
   ]
  },
  {
   "cell_type": "markdown",
   "metadata": {},
   "source": [
    "## ARI Truck VIN"
   ]
  },
  {
   "cell_type": "code",
   "execution_count": null,
   "metadata": {
    "ExecuteTime": {
     "end_time": "2020-01-24T21:05:16.099935Z",
     "start_time": "2020-01-24T21:05:16.022145Z"
    },
    "scrolled": true
   },
   "outputs": [],
   "source": [
    "SheetName = r'ARI Truck VIN'\n",
    "df = DF[SheetName]\n",
    "display(df.info())\n",
    "df\n"
   ]
  },
  {
   "cell_type": "code",
   "execution_count": null,
   "metadata": {
    "ExecuteTime": {
     "end_time": "2020-01-24T21:05:39.709077Z",
     "start_time": "2020-01-24T21:05:39.700100Z"
    },
    "scrolled": true
   },
   "outputs": [],
   "source": [
    "df.iloc[:,4]"
   ]
  },
  {
   "cell_type": "markdown",
   "metadata": {},
   "source": [
    "### define VIN COLUMNS"
   ]
  },
  {
   "cell_type": "code",
   "execution_count": null,
   "metadata": {
    "ExecuteTime": {
     "end_time": "2020-01-24T21:05:46.788403Z",
     "start_time": "2020-01-24T21:05:46.784412Z"
    }
   },
   "outputs": [],
   "source": [
    "x = 4"
   ]
  },
  {
   "cell_type": "code",
   "execution_count": null,
   "metadata": {
    "ExecuteTime": {
     "end_time": "2020-01-24T21:05:48.597361Z",
     "start_time": "2020-01-24T21:05:48.582455Z"
    },
    "scrolled": true
   },
   "outputs": [],
   "source": [
    "responses = pd.Series(None, index=range(len(df)))\n",
    "responses"
   ]
  },
  {
   "cell_type": "code",
   "execution_count": null,
   "metadata": {
    "ExecuteTime": {
     "end_time": "2020-01-24T21:06:16.577650Z",
     "start_time": "2020-01-24T21:05:51.667481Z"
    },
    "scrolled": true
   },
   "outputs": [],
   "source": [
    "for i in range(len(df)):\n",
    "    VIN = df.iloc[i,x]\n",
    "    print(rf'{i+1}/{len(df)}','   ', VIN)\n",
    "    if VIN:    \n",
    "        r = requests.post('https://secure.maxxforce11and13.com/en/VinLookup',{'VinNumber':VIN})\n",
    "        soup = BeautifulSoup(r.text,'lxml')\n",
    "        target = soup.find('form').find('div',class_ = 'alert alert-danger')\n",
    "        if target:\n",
    "            result= re.search(r'( {32})([\\w\\s]*\\.)',str(target))\n",
    "            responses[i] = result.group(2)\n",
    "        else:\n",
    "            target = soup.find('form').find('div',class_ = 'alert alert-success')\n",
    "            result= re.search(r'( {32})([\\w\\s]*\\.)',str(target))\n",
    "            responses[i] = result.group(2)\n",
    "    else:\n",
    "        responses[i] = 'VIN is null'\n",
    "responses"
   ]
  },
  {
   "cell_type": "code",
   "execution_count": null,
   "metadata": {
    "ExecuteTime": {
     "end_time": "2020-01-24T21:25:26.668882Z",
     "start_time": "2020-01-24T21:25:26.662907Z"
    }
   },
   "outputs": [],
   "source": [
    "df.loc[:,'Response'] = responses.values"
   ]
  },
  {
   "cell_type": "code",
   "execution_count": null,
   "metadata": {
    "ExecuteTime": {
     "end_time": "2020-01-24T21:25:32.567805Z",
     "start_time": "2020-01-24T21:25:32.533893Z"
    }
   },
   "outputs": [],
   "source": [
    "df"
   ]
  },
  {
   "cell_type": "code",
   "execution_count": null,
   "metadata": {
    "ExecuteTime": {
     "end_time": "2020-01-24T21:25:38.998251Z",
     "start_time": "2020-01-24T21:25:38.990271Z"
    }
   },
   "outputs": [],
   "source": [
    "df['Response'].value_counts()"
   ]
  },
  {
   "cell_type": "code",
   "execution_count": null,
   "metadata": {
    "ExecuteTime": {
     "end_time": "2020-01-21T22:39:07.070004Z",
     "start_time": "2020-01-21T22:39:07.064022Z"
    }
   },
   "outputs": [],
   "source": [
    "df.columns"
   ]
  },
  {
   "cell_type": "code",
   "execution_count": null,
   "metadata": {
    "ExecuteTime": {
     "end_time": "2020-01-24T21:27:38.514309Z",
     "start_time": "2020-01-24T21:27:38.454434Z"
    }
   },
   "outputs": [],
   "source": [
    "df.to_excel(output_dir + fileName.split('.')[0] + ' with response.xlsx',index = False, sheet_name= SheetName + ' Detail')"
   ]
  },
  {
   "cell_type": "code",
   "execution_count": null,
   "metadata": {
    "ExecuteTime": {
     "end_time": "2020-01-24T21:04:50.617008Z",
     "start_time": "2020-01-24T21:04:50.576121Z"
    }
   },
   "outputs": [],
   "source": [
    "for i, sheetname in enumerate(DF):\n",
    "    print(i, ' ', sheetname)"
   ]
  },
  {
   "cell_type": "markdown",
   "metadata": {},
   "source": [
    "## Emkay Truck VIN"
   ]
  },
  {
   "cell_type": "code",
   "execution_count": null,
   "metadata": {
    "ExecuteTime": {
     "end_time": "2020-01-24T21:34:37.986644Z",
     "start_time": "2020-01-24T21:34:37.926804Z"
    },
    "scrolled": true
   },
   "outputs": [],
   "source": [
    "SheetName = r'Emkay Truck VIN'\n",
    "df = DF[SheetName]\n",
    "display(df.info())\n",
    "df\n"
   ]
  },
  {
   "cell_type": "code",
   "execution_count": null,
   "metadata": {
    "ExecuteTime": {
     "end_time": "2020-01-24T21:34:50.184070Z",
     "start_time": "2020-01-24T21:34:50.176083Z"
    },
    "scrolled": true
   },
   "outputs": [],
   "source": [
    "df.iloc[:,5]"
   ]
  },
  {
   "cell_type": "markdown",
   "metadata": {},
   "source": [
    "### define VIN COLUMNS"
   ]
  },
  {
   "cell_type": "code",
   "execution_count": null,
   "metadata": {
    "ExecuteTime": {
     "end_time": "2020-01-24T21:34:59.202826Z",
     "start_time": "2020-01-24T21:34:59.198833Z"
    }
   },
   "outputs": [],
   "source": [
    "x = 5"
   ]
  },
  {
   "cell_type": "code",
   "execution_count": null,
   "metadata": {
    "ExecuteTime": {
     "end_time": "2020-01-24T21:35:01.461704Z",
     "start_time": "2020-01-24T21:35:01.445872Z"
    },
    "scrolled": true
   },
   "outputs": [],
   "source": [
    "responses = pd.Series(None, index=range(len(df)))\n",
    "responses"
   ]
  },
  {
   "cell_type": "code",
   "execution_count": null,
   "metadata": {
    "ExecuteTime": {
     "end_time": "2020-01-24T21:35:29.423928Z",
     "start_time": "2020-01-24T21:35:20.480958Z"
    },
    "scrolled": true
   },
   "outputs": [],
   "source": [
    "for i in range(len(df)):\n",
    "    VIN = df.iloc[i,x]\n",
    "    print(rf'{i+1}/{len(df)}','   ', VIN)\n",
    "    if VIN:    \n",
    "        r = requests.post('https://secure.maxxforce11and13.com/en/VinLookup',{'VinNumber':VIN})\n",
    "        soup = BeautifulSoup(r.text,'lxml')\n",
    "        target = soup.find('form').find('div',class_ = 'alert alert-danger')\n",
    "        if target:\n",
    "            result= re.search(r'( {32})([\\w\\s]*\\.)',str(target))\n",
    "            responses[i] = result.group(2)\n",
    "        else:\n",
    "            target = soup.find('form').find('div',class_ = 'alert alert-success')\n",
    "            result= re.search(r'( {32})([\\w\\s]*\\.)',str(target))\n",
    "            responses[i] = result.group(2)\n",
    "    else:\n",
    "        responses[i] = 'VIN is null'\n",
    "responses"
   ]
  },
  {
   "cell_type": "code",
   "execution_count": null,
   "metadata": {
    "ExecuteTime": {
     "end_time": "2020-01-24T21:35:35.005465Z",
     "start_time": "2020-01-24T21:35:34.989837Z"
    }
   },
   "outputs": [],
   "source": [
    "df.loc[:,'Response'] = responses.values"
   ]
  },
  {
   "cell_type": "code",
   "execution_count": null,
   "metadata": {
    "ExecuteTime": {
     "end_time": "2020-01-24T21:35:37.969720Z",
     "start_time": "2020-01-24T21:35:37.949774Z"
    }
   },
   "outputs": [],
   "source": [
    "df"
   ]
  },
  {
   "cell_type": "code",
   "execution_count": null,
   "metadata": {
    "ExecuteTime": {
     "end_time": "2020-01-24T21:35:43.921768Z",
     "start_time": "2020-01-24T21:35:43.906144Z"
    }
   },
   "outputs": [],
   "source": [
    "df['Response'].value_counts()"
   ]
  },
  {
   "cell_type": "code",
   "execution_count": null,
   "metadata": {
    "ExecuteTime": {
     "end_time": "2020-01-21T22:39:07.070004Z",
     "start_time": "2020-01-21T22:39:07.064022Z"
    }
   },
   "outputs": [],
   "source": [
    "df.columns"
   ]
  },
  {
   "cell_type": "code",
   "execution_count": null,
   "metadata": {
    "ExecuteTime": {
     "end_time": "2020-01-24T21:48:28.719792Z",
     "start_time": "2020-01-24T21:48:28.674877Z"
    }
   },
   "outputs": [],
   "source": [
    "with pd.ExcelWriter(output_dir + fileName.split('.')[0] + ' with response.xlsx',engine=\"openpyxl\", mode='a') as writer:\n",
    "    df.to_excel(writer, sheet_name= SheetName + ' Detail', index =False)"
   ]
  }
 ],
 "metadata": {
  "kernelspec": {
   "display_name": "Python 3",
   "language": "python",
   "name": "python3"
  },
  "language_info": {
   "codemirror_mode": {
    "name": "ipython",
    "version": 3
   },
   "file_extension": ".py",
   "mimetype": "text/x-python",
   "name": "python",
   "nbconvert_exporter": "python",
   "pygments_lexer": "ipython3",
   "version": "3.7.3"
  }
 },
 "nbformat": 4,
 "nbformat_minor": 2
}
